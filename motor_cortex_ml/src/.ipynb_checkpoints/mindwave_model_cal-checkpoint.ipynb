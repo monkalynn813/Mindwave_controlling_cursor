{
 "cells": [
  {
   "cell_type": "code",
   "execution_count": 70,
   "metadata": {},
   "outputs": [],
   "source": [
    "import numpy as np\n",
    "from scipy import signal\n",
    "from sklearn.multiclass import OneVsRestClassifier\n",
    "from sklearn.neighbors import KNeighborsClassifier\n",
    "from sklearn.ensemble import AdaBoostClassifier\n",
    "from sklearn.linear_model import SGDClassifier\n",
    "from sklearn.ensemble import GradientBoostingClassifier\n",
    "from sklearn.ensemble import VotingClassifier\n",
    "from sklearn.tree import DecisionTreeClassifier\n",
    "from sklearn.discriminant_analysis import LinearDiscriminantAnalysis\n",
    "from sklearn.svm import LinearSVC\n",
    "from sklearn.svm import SVC\n",
    "import matplotlib.pyplot as plt\n",
    "import csv\n",
    "import pickle\n",
    "import datetime\n"
   ]
  },
  {
   "cell_type": "code",
   "execution_count": 3,
   "metadata": {},
   "outputs": [],
   "source": [
    "# set path to datasets\n",
    "savetag='_exp3'\n",
    "\n",
    "datapath = '/home/jingyan/Documents/ME499-WinterProject/mindwave/src/motor_cortex_ml/data/'\n",
    "csvname =datapath + 'record'+savetag+'.csv'\n",
    "# csvname =datapath +'record_20rfft.csv'\n",
    "data = np.loadtxt(csvname,delimiter = ',')\n",
    "savedsp=datapath+'dsp'+savetag+'.csv'\n",
    "# get input/output pairs\n",
    "x = data[:,:-1]\n",
    "y = data[:,-1]\n",
    "channel_num=8\n",
    "chunk=20 #matches self.recordsize in mindwave_record.py\n",
    "fs=250\n",
    "band=(16,24)\n",
    "\n",
    "def bandpass(start,stop,data,fs):\n",
    "    bp_Hz = np.array([start, stop])\n",
    "    b, a = signal.butter(5, bp_Hz / (fs / 2.0), btype='bandpass')\n",
    "    return signal.lfilter(b, a, data, axis=0)\n",
    "\n",
    "def notch(val, data, fs):\n",
    "    bp_stop_Hz = val + 3.0 * np.array([-1, 1])\n",
    "    b, a = signal.butter(3, bp_stop_Hz / (fs / 2.0), 'bandstop')\n",
    "    return signal.lfilter(b, a, data)\n",
    "\n",
    "def fft(data, fs):\n",
    "    L = len(data)\n",
    "    freq = np.linspace(0.0, 1.0 / (2.0 * fs **-1), int(L / 2))\n",
    "    yi = np.fft.fft(data)#[1:]\n",
    "    y = yi[range(int(L / 2))]\n",
    "    # ysample= (2.0*abs(yi/L))[range(int(L/2))]\n",
    "    return freq, abs(y)\n"
   ]
  },
  {
   "cell_type": "code",
   "execution_count": 4,
   "metadata": {},
   "outputs": [
    {
     "data": {
      "text/plain": [
       "(10000, 8)"
      ]
     },
     "execution_count": 4,
     "metadata": {},
     "output_type": "execute_result"
    }
   ],
   "source": [
    "xleft=x[:,0]+x[:,2]+x[:,4]+x[:,6]\n",
    "xright=x[:,1]+x[:,3]+x[:,5]+x[:,7]\n",
    "addition_input=(xleft-xright).reshape(len(xleft-xright),1)\n",
    "x_add=np.append(x,addition_input,axis=1)"
   ]
  },
  {
   "cell_type": "code",
   "execution_count": 47,
   "metadata": {},
   "outputs": [],
   "source": [
    "for k in range(channel_num):\n",
    "    locals()[\"channel\"+str(k+1)]=x[:,k]\n",
    "#Divide datas to chunks, each chunk coorespond to specific channel with specific y value.\n",
    "#Total chunk number = channel_num * record_size(chunk) *4\n",
    "_total_chunk=channel_num*chunk*4\n",
    "for i in np.unique(y):\n",
    "    i=int(i)\n",
    "    locals()['ind_'+str(i+1)]=np.where(y==i)[0] ##left=-1,(ind0) ; right=1,(ind2); focus=0,(ind1);\n",
    "   \n",
    "    locals()['ind'+str(i+1)]=[locals()['ind_'+str(int(i+1))][0]]\n",
    "    for j in range(len(locals()['ind_'+str(i+1)])-1):  \n",
    "        if (locals()['ind_'+str(i+1)])[j]+1!=(locals()['ind_'+str(i+1)])[j+1]:\n",
    "            locals()['ind'+str(i+1)].append((locals()['ind_'+str(i+1)])[j])\n",
    "        if j>1 and (locals()['ind_'+str(i+1)])[j]-1!=(locals()['ind_'+str(i+1)])[j-1]:\n",
    "            (locals()['ind'+str(i+1)]).append((locals()['ind_'+str(i+1)])[j])\n",
    "    (locals()['ind'+str(i+1)]).append((locals()['ind_'+str(i+1)])[-1])\n",
    "    if i!=0 and 2*chunk!=len((locals()['ind'+str(i+1)])):\n",
    "        print(\"error: chunk size and interval limit does not match. flag number:\",i)\n",
    "    elif i==0 and 4*chunk!=len((locals()['ind'+str(i+1)])):\n",
    "        print(\"error: chunk size and interval limit does not match. flag number: \",i)\n",
    "    for k in range(channel_num):\n",
    "        for g in range(int((len((locals()['ind'+str(i+1)])))/2)):\n",
    "            locals()['channel'+str(k+1)+'_'+str(i+1)+'_chunk'+str(g+1)]=locals()['channel'+str(k+1)][(locals()['ind'+str(i+1)])[2*g]:(locals()['ind'+str(i+1)])[2*g+1]+1]\n",
    "        "
   ]
  },
  {
   "cell_type": "code",
   "execution_count": 48,
   "metadata": {},
   "outputs": [],
   "source": [
    "#DSP for individual chunk\n",
    "total_chunks=0\n",
    "row=''\n",
    "#generate average amplitude of each channel for indivisual label in specific band range\n",
    "#variable_channel#_label#_chunk#\n",
    "\n",
    "for i in np.unique(y):\n",
    "    i=int(i)\n",
    "    for k in range(channel_num):\n",
    "        for g in range(int((len((locals()['ind'+str(i+1)])))/2)):\n",
    "            data=locals()['channel'+str(k+1)+'_'+str(i+1)+'_chunk'+str(g+1)]\n",
    "#             locals()['freq'+str(k+1)+'_'+str(i+1)+'_chuank'+str(g+1)],locals()['ffty'+str(k+1)+'_'+str(i+1)+'_chuank'+str(g+1)]=fft(data,fs)\n",
    "            freq,ffty=fft(data,fs)\n",
    "            freq_ind=np.where((freq>=band[0])&(freq<=band[1]))[0]\n",
    "            desired_freq=freq[freq_ind]\n",
    "            amp_of_desired_freq=ffty[freq_ind]\n",
    "            average_amp=np.mean(amp_of_desired_freq)\n",
    "            locals()['average_amp_'+str(k+1)+'_'+str(i+1)+'_'+str(g+1)]=average_amp\n",
    "            total_chunks+=1\n",
    "if total_chunks != _total_chunk: print('error: total chunks number does not match with the data acqusition')\n",
    "\n",
    "for i in np.unique(y):\n",
    "    i=int(i)\n",
    "    for g in range(int((len((locals()['ind'+str(i+1)])))/2)):\n",
    "            for k in range(channel_num):\n",
    "                row+= str(locals()['average_amp_'+str(k+1)+'_'+str(i+1)+'_'+str(g+1)])\n",
    "                row+=','\n",
    "            row+=str(i)\n",
    "            row+='\\n'\n",
    "with open(savedsp,'w') as f:\n",
    "    f.write(row)\n",
    "loaddsp=datapath+'dsp2019-02-18 21:59:11.525796.csv'\n",
    "dspdata = np.loadtxt(savedsp,delimiter = ',')\n",
    "dspx = dspdata[:,:-1]\n",
    "dspy = dspdata[:,-1]"
   ]
  },
  {
   "cell_type": "code",
   "execution_count": 43,
   "metadata": {},
   "outputs": [
    {
     "name": "stdout",
     "output_type": "stream",
     "text": [
      "0.77\n"
     ]
    }
   ],
   "source": [
    "model=KNeighborsClassifier(n_neighbors=5)\n",
    "model.fit(x,y)\n",
    "score=model.score(x,y)\n",
    "print(score)\n",
    "model_filename='mindwave_model.pkl'\n",
    "with open(model_filename,'wb') as file:\n",
    "    pickle.dump(model,file)"
   ]
  },
  {
   "cell_type": "code",
   "execution_count": 57,
   "metadata": {},
   "outputs": [
    {
     "name": "stdout",
     "output_type": "stream",
     "text": [
      "0.6854\n"
     ]
    }
   ],
   "source": [
    "model=GradientBoostingClassifier()\n",
    "model.fit(x,y)\n",
    "score=model.score(x,y)\n",
    "print(score)\n",
    "model_filename='mindwave_model.pkl'\n",
    "with open(model_filename,'wb') as file:\n",
    "    pickle.dump(model,file)"
   ]
  },
  {
   "cell_type": "code",
   "execution_count": 44,
   "metadata": {},
   "outputs": [
    {
     "name": "stdout",
     "output_type": "stream",
     "text": [
      "0.6131\n"
     ]
    }
   ],
   "source": [
    "model=AdaBoostClassifier(n_estimators=100)#OneVsRestClassifier(SVC(kernel='linear'))\n",
    "model.fit(x_add,y)\n",
    "score=model.score(x_add,y)\n",
    "print(score)\n",
    "model_filename='mindwave_model.pkl'\n",
    "with open(model_filename,'wb') as file:\n",
    "    pickle.dump(model,file)"
   ]
  },
  {
   "cell_type": "code",
   "execution_count": 16,
   "metadata": {},
   "outputs": [
    {
     "name": "stdout",
     "output_type": "stream",
     "text": [
      "0.5261\n"
     ]
    }
   ],
   "source": [
    "model=OneVsRestClassifier(SVC(kernel='linear'))\n",
    "model.fit(x_add,y)\n",
    "score=model.score(x_add,y)\n",
    "print(score)\n",
    "model_filename='mindwave_model.pkl'\n",
    "with open(model_filename,'wb') as file:\n",
    "    pickle.dump(model,file)"
   ]
  },
  {
   "cell_type": "code",
   "execution_count": 72,
   "metadata": {},
   "outputs": [
    {
     "name": "stdout",
     "output_type": "stream",
     "text": [
      "0.9803\n"
     ]
    }
   ],
   "source": [
    "model=SVC(gamma='scale', decision_function_shape='ovo')\n",
    "model.fit(x,y)\n",
    "score=model.score(x,y)\n",
    "print(score)\n",
    "model_filename='mindwave_model.pkl'\n",
    "with open(model_filename,'wb') as file:\n",
    "    pickle.dump(model,file)\n"
   ]
  },
  {
   "cell_type": "code",
   "execution_count": 69,
   "metadata": {},
   "outputs": [
    {
     "name": "stdout",
     "output_type": "stream",
     "text": [
      "1.0\n"
     ]
    }
   ],
   "source": [
    "model=DecisionTreeClassifier()\n",
    "model.fit(x,y)\n",
    "score=model.score(x,y)\n",
    "print(score)\n",
    "model_filename='mindwave_model.pkl'\n",
    "with open(model_filename,'wb') as file:\n",
    "    pickle.dump(model,file)"
   ]
  },
  {
   "cell_type": "code",
   "execution_count": 71,
   "metadata": {},
   "outputs": [
    {
     "name": "stdout",
     "output_type": "stream",
     "text": [
      "0.5253\n"
     ]
    }
   ],
   "source": [
    "model=LinearDiscriminantAnalysis()\n",
    "model.fit(x,y)\n",
    "score=model.score(x,y)\n",
    "print(score)\n",
    "model_filename='mindwave_model.pkl'\n",
    "with open(model_filename,'wb') as file:\n",
    "    pickle.dump(model,file)"
   ]
  },
  {
   "cell_type": "code",
   "execution_count": null,
   "metadata": {},
   "outputs": [],
   "source": []
  }
 ],
 "metadata": {
  "kernelspec": {
   "display_name": "Python 2",
   "language": "python",
   "name": "python2"
  },
  "language_info": {
   "codemirror_mode": {
    "name": "ipython",
    "version": 2
   },
   "file_extension": ".py",
   "mimetype": "text/x-python",
   "name": "python",
   "nbconvert_exporter": "python",
   "pygments_lexer": "ipython2",
   "version": "2.7.15rc1"
  }
 },
 "nbformat": 4,
 "nbformat_minor": 2
}
