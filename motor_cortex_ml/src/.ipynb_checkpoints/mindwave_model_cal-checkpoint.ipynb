{
 "cells": [
  {
   "cell_type": "code",
   "execution_count": 12,
   "metadata": {},
   "outputs": [],
   "source": [
    "import numpy as np\n",
    "from scipy import signal\n",
    "from sklearn.multiclass import OneVsRestClassifier\n",
    "from sklearn.neighbors import KNeighborsClassifier\n",
    "from sklearn.ensemble import AdaBoostClassifier\n",
    "from sklearn.linear_model import SGDClassifier\n",
    "from sklearn.ensemble import GradientBoostingClassifier\n",
    "from sklearn.ensemble import VotingClassifier\n",
    "from sklearn.tree import DecisionTreeClassifier\n",
    "from sklearn.discriminant_analysis import LinearDiscriminantAnalysis\n",
    "from sklearn.svm import LinearSVC\n",
    "from sklearn.neural_network import MLPClassifier\n",
    "from sklearn.pipeline import Pipeline\n",
    "from sklearn.svm import SVC\n",
    "import matplotlib.pyplot as plt\n",
    "from sklearn.model_selection import ShuffleSplit, cross_val_score\n",
    "# from mne import Epochs, pick_types, find_events\n",
    "# from mne.channels import read_layout\n",
    "# from mne.io import concatenate_raws, read_raw_edf\n",
    "# from mne.datasets import eegbci\n",
    "# from mne.decoding import CSP\n",
    "import csv\n",
    "import pickle\n",
    "import datetime\n"
   ]
  },
  {
   "cell_type": "code",
   "execution_count": 34,
   "metadata": {},
   "outputs": [],
   "source": [
    "# set path to datasets\n",
    "savetag='_exp2'\n",
    "\n",
    "datapath = '/home/jingyan/Documents/ME499-WinterProject/mindwave/src/motor_cortex_ml/data/'\n",
    "csvname =datapath + 'record'+savetag+'.csv'\n",
    "# csvname =datapath +'record_20rfft.csv'\n",
    "data = np.loadtxt(csvname,delimiter = ',')\n",
    "savedsp=datapath+'dsp'+savetag+'.csv'\n",
    "# get input/output pairs\n",
    "x = data[:,:-1]\n",
    "y = data[:,-1]\n",
    "channel_num=8\n",
    "chunk=20 #matches self.recordsize in mindwave_record.py\n",
    "fs=250\n",
    "band=(7,13)\n",
    "\n",
    "def bandpass(start,stop,data,fs):\n",
    "    bp_Hz = np.array([start, stop])\n",
    "    b, a = signal.butter(5, bp_Hz / (fs / 2.0), btype='bandpass')\n",
    "    return signal.lfilter(b, a, data, axis=0)\n",
    "\n",
    "def notch(val, data, fs):\n",
    "    bp_stop_Hz = val + 3.0 * np.array([-1, 1])\n",
    "    b, a = signal.butter(3, bp_stop_Hz / (fs / 2.0), 'bandstop')\n",
    "    return signal.lfilter(b, a, data)\n",
    "\n",
    "def fft(data, fs):\n",
    "    L = len(data)\n",
    "    freq = np.linspace(0.0, 1.0 / (2.0 * fs **-1), int(L / 2))\n",
    "    yi = np.fft.fft(data)#[1:]\n",
    "    y = yi[range(int(L / 2))]\n",
    "    # ysample= (2.0*abs(yi/L))[range(int(L/2))]\n",
    "    return freq, abs(y)\n"
   ]
  },
  {
   "cell_type": "code",
   "execution_count": 35,
   "metadata": {},
   "outputs": [],
   "source": [
    "for k in range(channel_num):\n",
    "    locals()[\"channel\"+str(k+1)]=x[:,k]\n",
    "#Divide datas to chunks, each chunk coorespond to specific channel with specific y value.\n",
    "#Total chunk number = channel_num * record_size(chunk) *4\n",
    "_total_chunk=channel_num*chunk*4\n",
    "for i in np.unique(y):\n",
    "    i=int(i)\n",
    "    locals()['ind_'+str(i+1)]=np.where(y==i)[0] ##left=-1,(ind0) ; right=1,(ind2); focus=0,(ind1);\n",
    "   \n",
    "    locals()['ind'+str(i+1)]=[locals()['ind_'+str(int(i+1))][0]]\n",
    "    for j in range(len(locals()['ind_'+str(i+1)])-1):  \n",
    "        if (locals()['ind_'+str(i+1)])[j]+1!=(locals()['ind_'+str(i+1)])[j+1]:\n",
    "            locals()['ind'+str(i+1)].append((locals()['ind_'+str(i+1)])[j])\n",
    "        if j>1 and (locals()['ind_'+str(i+1)])[j]-1!=(locals()['ind_'+str(i+1)])[j-1]:\n",
    "            (locals()['ind'+str(i+1)]).append((locals()['ind_'+str(i+1)])[j])\n",
    "    (locals()['ind'+str(i+1)]).append((locals()['ind_'+str(i+1)])[-1])\n",
    "    if i!=0 and 2*chunk!=len((locals()['ind'+str(i+1)])):\n",
    "        print(\"error: chunk size and interval limit does not match. flag number:\",i)\n",
    "    elif i==0 and 4*chunk!=len((locals()['ind'+str(i+1)])):\n",
    "        print(\"error: chunk size and interval limit does not match. flag number: \",i)\n",
    "    for k in range(channel_num):\n",
    "        for g in range(int((len((locals()['ind'+str(i+1)])))/2)):\n",
    "            locals()['channel'+str(k+1)+'_'+str(i+1)+'_chunk'+str(g+1)]=locals()['channel'+str(k+1)][(locals()['ind'+str(i+1)])[2*g]:(locals()['ind'+str(i+1)])[2*g+1]+1]\n",
    "        "
   ]
  },
  {
   "cell_type": "code",
   "execution_count": 7,
   "metadata": {},
   "outputs": [],
   "source": [
    "#Run this cell if doing FFT\n",
    "#DSP for individual chunk###########FFT\n",
    "total_chunks=0\n",
    "row=''\n",
    "#generate average amplitude of each channel for indivisual label in specific band range\n",
    "#variable_channel#_label#_chunk#\n",
    "\n",
    "for i in np.unique(y):\n",
    "    i=int(i)\n",
    "    for k in range(channel_num):\n",
    "        for g in range(int((len((locals()['ind'+str(i+1)])))/2)):\n",
    "            data=locals()['channel'+str(k+1)+'_'+str(i+1)+'_chunk'+str(g+1)]\n",
    "            \n",
    "################################dsp:fft##################################\n",
    "            freq,ffty=fft(data,fs)\n",
    "            freq_ind=np.where((freq>=band[0])&(freq<=band[1]))[0]\n",
    "            desired_freq=freq[freq_ind]\n",
    "            amp_of_desired_freq=ffty[freq_ind]\n",
    "            average_amp=np.mean(amp_of_desired_freq)\n",
    "            locals()['average_amp_'+str(k+1)+'_'+str(i+1)+'_'+str(g+1)]=average_amp\n",
    "\n",
    "            total_chunks+=1\n",
    "if total_chunks != _total_chunk: print('error: total chunks number does not match with the data acqusition')\n",
    "\n",
    "###################FFT input file generation##############################\n",
    "for i in np.unique(y):\n",
    "    i=int(i)\n",
    "    for g in range(int((len((locals()['ind'+str(i+1)])))/2)):\n",
    "            for k in range(channel_num):\n",
    "                row+= str(locals()['average_amp_'+str(k+1)+'_'+str(i+1)+'_'+str(g+1)])\n",
    "                row+=','\n",
    "            row+=str(i)\n",
    "            row+='\\n'\n",
    "with open(savedsp,'w') as f:\n",
    "    f.write(row)\n",
    "dspdata = np.loadtxt(savedsp,delimiter = ',')\n",
    "dspx = dspdata[:,:-1]\n",
    "dspy = dspdata[:,-1]"
   ]
  },
  {
   "cell_type": "code",
   "execution_count": 36,
   "metadata": {},
   "outputs": [],
   "source": [
    "#Run this cell if doing CSP\n",
    "#DSP for individual chunk###################CSP\n",
    "x_2class=np.append(x[ind_0],x[ind_2],axis=0)\n",
    "y_2class=np.append(y[ind_0],y[ind_2],axis=0)\n",
    "x=x_2class\n",
    "y=y_2class\n",
    "total_chunks=0\n",
    "#generate average amplitude of each channel for indivisual label in specific band range\n",
    "#variable_channel#_label#_chunk#\n",
    "\n",
    "for i in np.unique(y):\n",
    "    i=int(i)\n",
    "    for k in range(channel_num):\n",
    "        for g in range(int((len((locals()['ind'+str(i+1)])))/2)):\n",
    "            data=locals()['channel'+str(k+1)+'_'+str(i+1)+'_chunk'+str(g+1)]\n",
    "            channel_filtered=bandpass(band[0],band[1],data,fs)\n",
    "            locals()['bp_filtered'+str(k+1)+'_'+str(i+1)+'_'+str(g+1)]=channel_filtered\n",
    "            total_chunks+=1\n",
    "if total_chunks != _total_chunk: print('error: total chunks number does not match with the data acqusition')\n",
    "\n",
    "    \n",
    "##################CSP input matrix generation#################################\n",
    "labels=[]\n",
    "for i in np.unique(y): \n",
    "    i=int(i)\n",
    "    for g in range(int((len((locals()['ind'+str(i+1)])))/2)):\n",
    "        for k in range(channel_num):\n",
    "            data=locals()['bp_filtered'+str(k+1)+'_'+str(i+1)+'_'+str(g+1)]\n",
    "            if k==0:\n",
    "                CSPmatrices_mergechn=[data]\n",
    "            else:\n",
    "                CSPmatrices_mergechn=np.append(CSPmatrices_mergechn,[data],axis=0)\n",
    "        if g==0 and i==-1: CSPmatrices=CSPmatrices_mergechn.reshape(1,CSPmatrices_mergechn.shape[0],CSPmatrices_mergechn.shape[1])\n",
    "        else: CSPmatrices=np.append(CSPmatrices,CSPmatrices_mergechn.reshape(1,CSPmatrices_mergechn.shape[0],CSPmatrices_mergechn.shape[1]),axis=0)\n",
    "        if i!=1: l=1\n",
    "        else: l=0\n",
    "        labels=np.append(labels,[l]) #####label =l -> different moving vs not moving   ####if previous cell ran: label = i for left vs right movement\n"
   ]
  },
  {
   "cell_type": "code",
   "execution_count": 39,
   "metadata": {},
   "outputs": [
    {
     "data": {
      "text/plain": [
       "(80, 1, 8, 1250)"
      ]
     },
     "execution_count": 39,
     "metadata": {},
     "output_type": "execute_result"
    }
   ],
   "source": [
    "#Run this cell if doing CNN\n",
    "#DSP for individual chunk###################CNN\n",
    "total_chunks=0\n",
    "#generate average amplitude of each channel for indivisual label in specific band range\n",
    "#variable_channel#_label#_chunk#\n",
    "\n",
    "for i in np.unique(y):\n",
    "    i=int(i)\n",
    "    for k in range(channel_num):\n",
    "        for g in range(int((len((locals()['ind'+str(i+1)])))/2)):\n",
    "            data=locals()['channel'+str(k+1)+'_'+str(i+1)+'_chunk'+str(g+1)]\n",
    "            channel_filtered=bandpass(band[0],band[1],data,fs)\n",
    "            locals()['bp_filtered'+str(k+1)+'_'+str(i+1)+'_'+str(g+1)]=channel_filtered\n",
    "            total_chunks+=1\n",
    "if total_chunks != _total_chunk: print('error: total chunks number does not match with the data acqusition')\n",
    "\n",
    "    \n",
    "##################CSP input matrix generation#################################\n",
    "labels=[]\n",
    "for i in np.unique(y): \n",
    "    i=int(i)\n",
    "    for g in range(int((len((locals()['ind'+str(i+1)])))/2)):\n",
    "        for k in range(channel_num):\n",
    "            data=locals()['bp_filtered'+str(k+1)+'_'+str(i+1)+'_'+str(g+1)]\n",
    "            if k==0:\n",
    "                CSPmatrices_mergechn=[data]\n",
    "            else:\n",
    "                CSPmatrices_mergechn=np.append(CSPmatrices_mergechn,[data],axis=0)\n",
    "        if g==0 and i==-1: CSPmatrices=CSPmatrices_mergechn.reshape(1,CSPmatrices_mergechn.shape[0],CSPmatrices_mergechn.shape[1])\n",
    "        else: CSPmatrices=np.append(CSPmatrices,CSPmatrices_mergechn.reshape(1,CSPmatrices_mergechn.shape[0],CSPmatrices_mergechn.shape[1]),axis=0)\n",
    "        if i!=1: l=1\n",
    "        else: l=0\n",
    "        labels=np.append(labels,[l]) #####label =l -> different moving vs not moving   ####if previous cell ran: label = i for left vs right movement"
   ]
  },
  {
   "cell_type": "code",
   "execution_count": 25,
   "metadata": {},
   "outputs": [
    {
     "name": "stdout",
     "output_type": "stream",
     "text": [
      "Estimating covariance using EMPIRICAL\n",
      "Done.\n",
      "Estimating covariance using EMPIRICAL\n",
      "Done.\n"
     ]
    },
    {
     "data": {
      "text/plain": [
       "0.75"
      ]
     },
     "execution_count": 25,
     "metadata": {},
     "output_type": "execute_result"
    }
   ],
   "source": [
    "csp = CSP(n_components=8, reg=None, log=True, norm_trace=False)\n",
    "x_train=csp.fit_transform(CSPmatrices,labels)\n",
    "lda =LinearDiscriminantAnalysis()\n",
    "lda.fit(x_train,labels)\n",
    "lda.score(x_train,labels)"
   ]
  },
  {
   "cell_type": "code",
   "execution_count": 15,
   "metadata": {},
   "outputs": [],
   "source": [
    "from sklearn.model_selection import train_test_split\n",
    "x_train,x_test,y_train,y_test=train_test_split(x,y,test_size=0.2)\n"
   ]
  },
  {
   "cell_type": "code",
   "execution_count": 7,
   "metadata": {},
   "outputs": [],
   "source": [
    "left_sp=3*x[:,2]-x[:,0]-x[:,4]-x[:,6]\n",
    "right_sp=3*x[:,3]-x[:,1]-x[:,5]-x[:,7]\n",
    "x_sp=np.append(left_sp.reshape(len(left_sp),1),right_sp.reshape(len(right_sp),1),axis=1)\n",
    "x_train,x_test,y_train,y_test=train_test_split(x_sp,y,test_size=0.2)"
   ]
  },
  {
   "cell_type": "code",
   "execution_count": 32,
   "metadata": {},
   "outputs": [
    {
     "name": "stdout",
     "output_type": "stream",
     "text": [
      "(0.8469375, 0.738)\n"
     ]
    }
   ],
   "source": [
    "model=KNeighborsClassifier(n_neighbors=4)\n",
    "model.fit(x_train,y_train)\n",
    "score_train=model.score(x_train,y_train)\n",
    "score_test=model.score(x_test,y_test)\n",
    "print(score_train,score_test)\n",
    "model_filename='mindwave_model.pkl'\n",
    "with open(model_filename,'wb') as file:\n",
    "    pickle.dump(model,file)"
   ]
  },
  {
   "cell_type": "code",
   "execution_count": 33,
   "metadata": {},
   "outputs": [
    {
     "name": "stdout",
     "output_type": "stream",
     "text": [
      "(0.6325625, 0.6055)\n"
     ]
    }
   ],
   "source": [
    "model=GradientBoostingClassifier()\n",
    "model.fit(x_train,y_train)\n",
    "score_train=model.score(x_train,y_train)\n",
    "score_test=model.score(x_test,y_test)\n",
    "print(score_train,score_test)\n",
    "model_filename='mindwave_model.pkl'\n",
    "with open(model_filename,'wb') as file:\n",
    "    pickle.dump(model,file)"
   ]
  },
  {
   "cell_type": "code",
   "execution_count": 49,
   "metadata": {},
   "outputs": [
    {
     "name": "stdout",
     "output_type": "stream",
     "text": [
      "0.5040625 0.50825\n"
     ]
    }
   ],
   "source": [
    "model=AdaBoostClassifier(n_estimators=60)#OneVsRestClassifier(SVC(kernel='linear'))\n",
    "model.fit(x_train,y_train)\n",
    "score_train=model.score(x_train,y_train)\n",
    "score_test=model.score(x_test,y_test)\n",
    "print(score_train,score_test)\n",
    "model_filename='mindwave_model.pkl'\n",
    "with open(model_filename,'wb') as file:\n",
    "    pickle.dump(model,file)"
   ]
  },
  {
   "cell_type": "code",
   "execution_count": 86,
   "metadata": {},
   "outputs": [
    {
     "name": "stdout",
     "output_type": "stream",
     "text": [
      "0.5438\n"
     ]
    }
   ],
   "source": [
    "model=OneVsRestClassifier(SVC(kernel='linear'))\n",
    "model.fit(x,y)\n",
    "score=model.score(x,y)\n",
    "print(score)\n",
    "model_filename='mindwave_model_exp4_ova.pkl'\n",
    "with open(model_filename,'wb') as file:\n",
    "    pickle.dump(model,file)"
   ]
  },
  {
   "cell_type": "code",
   "execution_count": 27,
   "metadata": {},
   "outputs": [
    {
     "name": "stdout",
     "output_type": "stream",
     "text": [
      "0.9696875 0.623\n"
     ]
    }
   ],
   "source": [
    "model=SVC(gamma='scale', decision_function_shape='ovo')\n",
    "model.fit(x_train,y_train)\n",
    "score_train=model.score(x_train,y_train)\n",
    "score_test=model.score(x_test,y_test)\n",
    "print(score_train,score_test)\n",
    "model_filename='mindwave_model_exp4_svc.pkl'\n",
    "with open(model_filename,'wb') as file:\n",
    "    pickle.dump(model,file)\n"
   ]
  },
  {
   "cell_type": "code",
   "execution_count": 80,
   "metadata": {},
   "outputs": [
    {
     "name": "stdout",
     "output_type": "stream",
     "text": [
      "1.0\n"
     ]
    }
   ],
   "source": [
    "model=DecisionTreeClassifier()\n",
    "model.fit(x,y)\n",
    "score=model.score(x,y)\n",
    "print(score)\n",
    "model_filename='mindwave_model.pkl'\n",
    "with open(model_filename,'wb') as file:\n",
    "    pickle.dump(model,file)"
   ]
  },
  {
   "cell_type": "code",
   "execution_count": 50,
   "metadata": {},
   "outputs": [
    {
     "name": "stdout",
     "output_type": "stream",
     "text": [
      "0.504375 0.5185\n"
     ]
    }
   ],
   "source": [
    "model=LinearDiscriminantAnalysis()\n",
    "model.fit(x_train,y_train)\n",
    "score_train=model.score(x_train,y_train)\n",
    "score_test=model.score(x_test,y_test)\n",
    "print(score_train,score_test)\n",
    "model_filename='mindwave_model.pkl'\n",
    "with open(model_filename,'wb') as file:\n",
    "    pickle.dump(model,file)"
   ]
  },
  {
   "cell_type": "code",
   "execution_count": null,
   "metadata": {},
   "outputs": [],
   "source": []
  }
 ],
 "metadata": {
  "kernelspec": {
   "display_name": "Python 2",
   "language": "python",
   "name": "python2"
  },
  "language_info": {
   "codemirror_mode": {
    "name": "ipython",
    "version": 2
   },
   "file_extension": ".py",
   "mimetype": "text/x-python",
   "name": "python",
   "nbconvert_exporter": "python",
   "pygments_lexer": "ipython2",
   "version": "2.7.15rc1"
  }
 },
 "nbformat": 4,
 "nbformat_minor": 2
}
