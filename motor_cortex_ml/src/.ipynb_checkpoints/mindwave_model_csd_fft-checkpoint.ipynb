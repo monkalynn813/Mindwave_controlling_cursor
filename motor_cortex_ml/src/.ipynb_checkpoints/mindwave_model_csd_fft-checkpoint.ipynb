{
 "cells": [
  {
   "cell_type": "code",
   "execution_count": 5,
   "metadata": {},
   "outputs": [],
   "source": [
    "import numpy as np\n",
    "from scipy import signal\n",
    "from sklearn.multiclass import OneVsRestClassifier\n",
    "from sklearn.neighbors import KNeighborsClassifier\n",
    "from sklearn.ensemble import AdaBoostClassifier\n",
    "from sklearn.linear_model import SGDClassifier\n",
    "from sklearn.ensemble import GradientBoostingClassifier\n",
    "from sklearn.ensemble import VotingClassifier\n",
    "from sklearn.tree import DecisionTreeClassifier\n",
    "from sklearn.discriminant_analysis import LinearDiscriminantAnalysis\n",
    "from sklearn.svm import LinearSVC\n",
    "from sklearn.neural_network import MLPClassifier\n",
    "from sklearn.pipeline import Pipeline\n",
    "from sklearn.svm import SVC\n",
    "import matplotlib.pyplot as plt\n",
    "from sklearn.model_selection import ShuffleSplit, cross_val_score\n",
    "from sklearn.preprocessing import LabelBinarizer\n",
    "import csv\n",
    "import pickle\n",
    "import datetime\n",
    "from sklearn.preprocessing import MinMaxScaler"
   ]
  },
  {
   "cell_type": "code",
   "execution_count": 61,
   "metadata": {},
   "outputs": [],
   "source": [
    "# set path to datasets\n",
    "datapath = '/home/jingyan/Documents/ME499-WinterProject/mindwave/src/motor_cortex_ml/data/'\n",
    "def load_record(sec,run):\n",
    "    for secnum in sec:\n",
    "        for runnum in run: #6runs for each session\n",
    "            savetag='_exp15_sec'+str(secnum)+'_run'+str(runnum)\n",
    "            csvname =datapath + 'record'+savetag+'.csv'\n",
    "            data = np.loadtxt(csvname,delimiter = ',')\n",
    "            if runnum==run[0] and secnum==sec[0]:\n",
    "                x = data[:,:-1]\n",
    "                y = data[:,-1]\n",
    "            else:\n",
    "                x=np.append(x,data[:,:-1],axis=0)\n",
    "                y=np.append(y,data[:,-1],axis=0)\n",
    "    return x, y\n",
    "\n",
    "def fft(data, fs):\n",
    "    L = len(data)\n",
    "    freq = np.linspace(0.0, 1.0 / (2.0 * fs **-1), int(L / 2))\n",
    "    yi = np.fft.fft(data)#[1:]\n",
    "    y = yi[range(int(L / 2))]\n",
    "    # ysample= (2.0*abs(yi/L))[range(int(L/2))]\n",
    "    return freq, abs(y)\n",
    "def drop_class(data,labels,remove_list=[0]):\n",
    "    keep_list=np.isin(labels,remove_list,invert=True)\n",
    "    label_keep=labels[keep_list]\n",
    "    data_keep=data[keep_list]\n",
    "    return data_keep,label_keep\n",
    "def set_baseline_ref(data,labels,base_class=[0],use_baseline=False,ref_base=None):\n",
    "    base_list=np.isin(labels,base_class,invert=False)\n",
    "    if use_baseline==False:\n",
    "        baseline_ffts=data[base_list]\n",
    "        baseline_fft_ref=np.mean(baseline_ffts,axis=0)\n",
    "    else:\n",
    "        baseline_fft_ref=ref_base\n",
    "    data_keep,label_keep=drop_class(data,labels)\n",
    "    if data_keep.shape[1]!=baseline_fft_ref.shape[0]: ValueError('size mismatch')\n",
    "    data_ref=(data_keep-baseline_fft_ref)/baseline_fft_ref\n",
    "    return data_ref,label_keep,baseline_fft_ref    \n",
    "\n",
    "channel_num=8\n",
    "fs=250\n",
    "train_data,train_label=load_record([1],[1])\n",
    "test_data,test_label=load_record([1],[2])"
   ]
  },
  {
   "cell_type": "code",
   "execution_count": 29,
   "metadata": {},
   "outputs": [
    {
     "data": {
      "text/plain": [
       "(4500, 24)"
      ]
     },
     "execution_count": 29,
     "metadata": {},
     "output_type": "execute_result"
    }
   ],
   "source": [
    "train_data.shape"
   ]
  },
  {
   "cell_type": "code",
   "execution_count": 62,
   "metadata": {},
   "outputs": [
    {
     "ename": "ValueError",
     "evalue": "The truth value of an array with more than one element is ambiguous. Use a.any() or a.all()",
     "output_type": "error",
     "traceback": [
      "\u001b[0;31m---------------------------------------------------------------------------\u001b[0m",
      "\u001b[0;31mValueError\u001b[0m                                Traceback (most recent call last)",
      "\u001b[0;32m<ipython-input-62-41be4afa1152>\u001b[0m in \u001b[0;36m<module>\u001b[0;34m()\u001b[0m\n\u001b[1;32m      1\u001b[0m \u001b[0mtrain_keep\u001b[0m\u001b[0;34m,\u001b[0m\u001b[0mlabel_keep\u001b[0m\u001b[0;34m,\u001b[0m\u001b[0mbaseline_fft_ref\u001b[0m\u001b[0;34m=\u001b[0m\u001b[0mset_baseline_ref\u001b[0m\u001b[0;34m(\u001b[0m\u001b[0mtrain_data\u001b[0m\u001b[0;34m,\u001b[0m\u001b[0mtrain_label\u001b[0m\u001b[0;34m)\u001b[0m\u001b[0;34m\u001b[0m\u001b[0m\n\u001b[0;32m----> 2\u001b[0;31m \u001b[0mtest_keep\u001b[0m\u001b[0;34m,\u001b[0m\u001b[0mtest_label_keep\u001b[0m\u001b[0;34m,\u001b[0m\u001b[0mbaseline_fft_ref_test\u001b[0m\u001b[0;34m=\u001b[0m\u001b[0mset_baseline_ref\u001b[0m\u001b[0;34m(\u001b[0m\u001b[0mtest_data\u001b[0m\u001b[0;34m,\u001b[0m\u001b[0mtest_label\u001b[0m\u001b[0;34m,\u001b[0m\u001b[0muse_baseline\u001b[0m\u001b[0;34m=\u001b[0m\u001b[0mbaseline_fft_ref\u001b[0m\u001b[0;34m)\u001b[0m\u001b[0;34m\u001b[0m\u001b[0m\n\u001b[0m\u001b[1;32m      3\u001b[0m \u001b[0;31m# scaler=MinMaxScaler()\u001b[0m\u001b[0;34m\u001b[0m\u001b[0;34m\u001b[0m\u001b[0m\n\u001b[1;32m      4\u001b[0m \u001b[0;31m# scaled_train_data=scaler.fit_transform(train_keep)\u001b[0m\u001b[0;34m\u001b[0m\u001b[0;34m\u001b[0m\u001b[0m\n\u001b[1;32m      5\u001b[0m \u001b[0;31m# scaled_test_data=scaler.fit_transform(test_keep)\u001b[0m\u001b[0;34m\u001b[0m\u001b[0;34m\u001b[0m\u001b[0m\n",
      "\u001b[0;32m<ipython-input-61-3818698ffdbf>\u001b[0m in \u001b[0;36mset_baseline_ref\u001b[0;34m(data, labels, base_class, use_baseline)\u001b[0m\n\u001b[1;32m     29\u001b[0m \u001b[0;32mdef\u001b[0m \u001b[0mset_baseline_ref\u001b[0m\u001b[0;34m(\u001b[0m\u001b[0mdata\u001b[0m\u001b[0;34m,\u001b[0m\u001b[0mlabels\u001b[0m\u001b[0;34m,\u001b[0m\u001b[0mbase_class\u001b[0m\u001b[0;34m=\u001b[0m\u001b[0;34m[\u001b[0m\u001b[0;36m0\u001b[0m\u001b[0;34m]\u001b[0m\u001b[0;34m,\u001b[0m\u001b[0muse_baseline\u001b[0m\u001b[0;34m=\u001b[0m\u001b[0mNone\u001b[0m\u001b[0;34m)\u001b[0m\u001b[0;34m:\u001b[0m\u001b[0;34m\u001b[0m\u001b[0m\n\u001b[1;32m     30\u001b[0m     \u001b[0mbase_list\u001b[0m\u001b[0;34m=\u001b[0m\u001b[0mnp\u001b[0m\u001b[0;34m.\u001b[0m\u001b[0misin\u001b[0m\u001b[0;34m(\u001b[0m\u001b[0mlabels\u001b[0m\u001b[0;34m,\u001b[0m\u001b[0mbase_class\u001b[0m\u001b[0;34m,\u001b[0m\u001b[0minvert\u001b[0m\u001b[0;34m=\u001b[0m\u001b[0mFalse\u001b[0m\u001b[0;34m)\u001b[0m\u001b[0;34m\u001b[0m\u001b[0m\n\u001b[0;32m---> 31\u001b[0;31m     \u001b[0;32mif\u001b[0m \u001b[0muse_baseline\u001b[0m\u001b[0;34m==\u001b[0m\u001b[0mNone\u001b[0m\u001b[0;34m:\u001b[0m\u001b[0;34m\u001b[0m\u001b[0m\n\u001b[0m\u001b[1;32m     32\u001b[0m         \u001b[0mbaseline_ffts\u001b[0m\u001b[0;34m=\u001b[0m\u001b[0mdata\u001b[0m\u001b[0;34m[\u001b[0m\u001b[0mbase_list\u001b[0m\u001b[0;34m]\u001b[0m\u001b[0;34m\u001b[0m\u001b[0m\n\u001b[1;32m     33\u001b[0m         \u001b[0mbaseline_fft_ref\u001b[0m\u001b[0;34m=\u001b[0m\u001b[0mnp\u001b[0m\u001b[0;34m.\u001b[0m\u001b[0mmean\u001b[0m\u001b[0;34m(\u001b[0m\u001b[0mbaseline_ffts\u001b[0m\u001b[0;34m,\u001b[0m\u001b[0maxis\u001b[0m\u001b[0;34m=\u001b[0m\u001b[0;36m0\u001b[0m\u001b[0;34m)\u001b[0m\u001b[0;34m\u001b[0m\u001b[0m\n",
      "\u001b[0;31mValueError\u001b[0m: The truth value of an array with more than one element is ambiguous. Use a.any() or a.all()"
     ]
    }
   ],
   "source": [
    "train_keep,label_keep,baseline_fft_ref=set_baseline_ref(train_data,train_label)\n",
    "test_keep,test_label_keep,baseline_fft_ref_test=set_baseline_ref(test_data,test_label,use_baseline=baseline_fft_ref)\n",
    "# scaler=MinMaxScaler()\n",
    "# scaled_train_data=scaler.fit_transform(train_keep)\n",
    "# scaled_test_data=scaler.fit_transform(test_keep)\n",
    "from sklearn.model_selection import train_test_split\n",
    "\n",
    "np.savetxt(\"baseline_ref.csv\", baseline_fft_ref, delimiter=\",\")\n",
    "x_train,y_train,x_test,y_test=train_keep,label_keep,test_keep,test_label_keep\n",
    "# x_train,x_test,y_train,y_test=train_test_split(train_keep,label_keep,test_size=0.25)\n",
    "print(x_train.shape,y_train.shape)"
   ]
  },
  {
   "cell_type": "code",
   "execution_count": 35,
   "metadata": {},
   "outputs": [
    {
     "name": "stdout",
     "output_type": "stream",
     "text": [
      "(0.6896666666666667, 0.396)\n"
     ]
    }
   ],
   "source": [
    "#Linear SVM classifier\n",
    "clf1 = LinearSVC(C = 0.1, intercept_scaling=1, loss='hinge', max_iter=1000,multi_class='ovr', penalty='l2', random_state=1, tol=0.00001)\n",
    "clf1.fit(x_train,y_train)\n",
    "score_train1=clf1.score(x_train,y_train)\n",
    "score_test1=clf1.score(x_test,y_test)\n",
    "print(score_train1,score_test1)"
   ]
  },
  {
   "cell_type": "code",
   "execution_count": 36,
   "metadata": {},
   "outputs": [
    {
     "name": "stdout",
     "output_type": "stream",
     "text": [
      "(0.9346666666666666, 0.5823333333333334)\n"
     ]
    }
   ],
   "source": [
    "model=KNeighborsClassifier(n_neighbors=3)\n",
    "model.fit(x_train,y_train)\n",
    "score_train=model.score(x_train,y_train)\n",
    "score_test=model.score(x_test,y_test)\n",
    "print(score_train,score_test)\n",
    "model_filename='mindwave_model.pkl'\n",
    "with open(model_filename,'wb') as file:\n",
    "    pickle.dump(model,file)"
   ]
  },
  {
   "cell_type": "code",
   "execution_count": 37,
   "metadata": {},
   "outputs": [
    {
     "name": "stdout",
     "output_type": "stream",
     "text": [
      "(0.8956666666666667, 0.5733333333333334)\n"
     ]
    }
   ],
   "source": [
    "model=GradientBoostingClassifier()\n",
    "model.fit(x_train,y_train)\n",
    "score_train=model.score(x_train,y_train)\n",
    "score_test=model.score(x_test,y_test)\n",
    "print(score_train,score_test)\n",
    "model_filename='mindwave_model.pkl'\n",
    "with open(model_filename,'wb') as file:\n",
    "    pickle.dump(model,file)"
   ]
  },
  {
   "cell_type": "code",
   "execution_count": 38,
   "metadata": {},
   "outputs": [
    {
     "name": "stdout",
     "output_type": "stream",
     "text": [
      "(0.814, 0.5146666666666667)\n"
     ]
    }
   ],
   "source": [
    "model=AdaBoostClassifier(n_estimators=100)#OneVsRestClassifier(SVC(kernel='linear'))\n",
    "model.fit(x_train,y_train)\n",
    "score_train=model.score(x_train,y_train)\n",
    "score_test=model.score(x_test,y_test)\n",
    "print(score_train,score_test)\n",
    "# model_filename='mindwave_model.pkl'\n",
    "# with open(model_filename,'wb') as file:\n",
    "#     pickle.dump(model,file)"
   ]
  },
  {
   "cell_type": "code",
   "execution_count": 39,
   "metadata": {},
   "outputs": [
    {
     "name": "stdout",
     "output_type": "stream",
     "text": [
      "(1.0, 0.48033333333333333)\n"
     ]
    }
   ],
   "source": [
    "model=DecisionTreeClassifier()\n",
    "model.fit(x_train,y_train)\n",
    "score_train=model.score(x_train,y_train)\n",
    "score_test=model.score(x_test,y_test)\n",
    "print(score_train,score_test)\n",
    "model_filename='mindwave_model.pkl'\n",
    "with open(model_filename,'wb') as file:\n",
    "    pickle.dump(model,file,protocol=2)"
   ]
  },
  {
   "cell_type": "code",
   "execution_count": 40,
   "metadata": {},
   "outputs": [
    {
     "name": "stdout",
     "output_type": "stream",
     "text": [
      "(0.655, 0.403)\n"
     ]
    }
   ],
   "source": [
    "model=LinearDiscriminantAnalysis()\n",
    "model.fit(x_train,y_train)\n",
    "score_train=model.score(x_train,y_train)\n",
    "score_test=model.score(x_test,y_test)\n",
    "print(score_train,score_test)\n",
    "# model_filename='mindwave_model.pkl'\n",
    "# with open(model_filename,'wb') as file:\n",
    "#     pickle.dump(model,file)"
   ]
  },
  {
   "cell_type": "code",
   "execution_count": 41,
   "metadata": {},
   "outputs": [
    {
     "name": "stdout",
     "output_type": "stream",
     "text": [
      "(0.8853333333333333, 0.5583333333333333)\n"
     ]
    }
   ],
   "source": [
    "model2 = SVC(20,'rbf', degree=10, gamma='auto', coef0=0.0, tol=0.001, cache_size=10000, max_iter=-1, decision_function_shape='ovr')\n",
    "model2.fit(x_train,y_train)\n",
    "score_train2=model2.score(x_train,y_train)\n",
    "score_test2=model2.score(x_test,y_test)\n",
    "print(score_train2,score_test2)"
   ]
  },
  {
   "cell_type": "code",
   "execution_count": null,
   "metadata": {},
   "outputs": [],
   "source": []
  }
 ],
 "metadata": {
  "kernelspec": {
   "display_name": "Python 2",
   "language": "python",
   "name": "python2"
  },
  "language_info": {
   "codemirror_mode": {
    "name": "ipython",
    "version": 2
   },
   "file_extension": ".py",
   "mimetype": "text/x-python",
   "name": "python",
   "nbconvert_exporter": "python",
   "pygments_lexer": "ipython2",
   "version": "2.7.15rc1"
  }
 },
 "nbformat": 4,
 "nbformat_minor": 2
}
