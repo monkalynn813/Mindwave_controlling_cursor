{
 "cells": [
  {
   "cell_type": "code",
   "execution_count": 2,
   "metadata": {},
   "outputs": [
    {
     "name": "stderr",
     "output_type": "stream",
     "text": [
      "/home/jingyan/anaconda3/lib/python3.6/importlib/_bootstrap.py:219: RuntimeWarning: numpy.dtype size changed, may indicate binary incompatibility. Expected 96, got 88\n",
      "  return f(*args, **kwds)\n",
      "/home/jingyan/anaconda3/lib/python3.6/importlib/_bootstrap.py:219: RuntimeWarning: numpy.dtype size changed, may indicate binary incompatibility. Expected 96, got 88\n",
      "  return f(*args, **kwds)\n"
     ]
    }
   ],
   "source": [
    "import numpy as np\n",
    "from scipy import signal\n",
    "from sklearn.multiclass import OneVsRestClassifier\n",
    "from sklearn.svm import LinearSVC\n",
    "from sklearn.svm import SVC\n",
    "import matplotlib.pyplot as plt\n",
    "import csv\n",
    "import pickle\n",
    "from itertools import *\n",
    "from operator import *"
   ]
  },
  {
   "cell_type": "code",
   "execution_count": 3,
   "metadata": {},
   "outputs": [],
   "source": [
    "# set path to datasets\n",
    "datapath = '/home/jingyan/Documents/ME499-WinterProject/mindwave/src/motor_cortex_ml/data/'\n",
    "csvname =datapath + 'record.csv'\n",
    "data = np.loadtxt(csvname,delimiter = ',')\n",
    "\n",
    "# get input/output pairs\n",
    "\n",
    "\n",
    "x = data[:,:-1]\n",
    "y = data[:,-1]\n",
    "\n",
    "def bandpass(self,start,stop,data,fs):\n",
    "    bp_Hz = np.array([start, stop])\n",
    "    b, a = signal.butter(5, bp_Hz / (fs / 2.0), btype='bandpass')\n",
    "    return signal.lfilter(b, a, data, axis=0)\n",
    "\n",
    "def notch(self,val, data, fs):\n",
    "    bp_stop_Hz = val + 3.0 * np.array([-1, 1])\n",
    "    b, a = signal.butter(3, bp_stop_Hz / (fs / 2.0), 'bandstop')\n",
    "    return signal.lfilter(b, a, data)\n",
    "\n",
    "def fft(self,data, fs):\n",
    "    L = len(data)\n",
    "    freq = np.linspace(0.0, 1.0 / (2.0 * fs **-1), int(L / 2))\n",
    "    yi = np.fft.fft(data)#[1:]\n",
    "    y = yi[range(int(L / 2))]\n",
    "    # ysample= (2.0*abs(yi/L))[range(int(L/2))]\n",
    "    return freq, abs(y)\n"
   ]
  },
  {
   "cell_type": "code",
   "execution_count": 4,
   "metadata": {},
   "outputs": [],
   "source": [
    "channel_num=8\n",
    "fs=250\n",
    "band=(16,24)\n",
    "for k in range(channel_num):\n",
    "    locals()[\"channel\"+str(k+1)]=x[:,k]\n",
    "for i in np.unique(y):\n",
    "    locals()['ind_'+str(int(i+1))]=np.where(y==i)[0]\n",
    "for k,g in groupby(enumerate(ind_0),lambda ix:ix[0]-ix[1]):\n",
    "    a=(list(map(itemgetter(1), g)))\n"
   ]
  },
  {
   "cell_type": "code",
   "execution_count": null,
   "metadata": {},
   "outputs": [],
   "source": [
    "model=OneVsRestClassifier(SVC(kernel='linear'))\n",
    "model.fit(x,y)\n",
    "score=model.score(x,y)\n",
    "print(score)\n",
    "model_filename='mindwave_model.pkl'\n"
   ]
  },
  {
   "cell_type": "code",
   "execution_count": 12,
   "metadata": {},
   "outputs": [],
   "source": [
    "with open(model_filename,'wb') as file:\n",
    "    pickle.dump(model,file)"
   ]
  },
  {
   "cell_type": "code",
   "execution_count": 23,
   "metadata": {},
   "outputs": [],
   "source": [
    "from sklearn import datasets\n",
    "from sklearn.multiclass import OneVsRestClassifier\n",
    "from sklearn.svm import LinearSVC\n",
    "iris = datasets.load_iris()\n",
    "X, y = iris.data, iris.target\n",
    "a=OneVsRestClassifier(LinearSVC(random_state=0)).fit(X, y).predict(b) "
   ]
  },
  {
   "cell_type": "code",
   "execution_count": 20,
   "metadata": {},
   "outputs": [],
   "source": [
    "b=np.array([[1,2,1,2]])"
   ]
  },
  {
   "cell_type": "code",
   "execution_count": 25,
   "metadata": {},
   "outputs": [
    {
     "data": {
      "text/plain": [
       "2"
      ]
     },
     "execution_count": 25,
     "metadata": {},
     "output_type": "execute_result"
    }
   ],
   "source": [
    "a[0]"
   ]
  },
  {
   "cell_type": "code",
   "execution_count": null,
   "metadata": {},
   "outputs": [],
   "source": []
  }
 ],
 "metadata": {
  "kernelspec": {
   "display_name": "Python 3",
   "language": "python",
   "name": "python3"
  },
  "language_info": {
   "codemirror_mode": {
    "name": "ipython",
    "version": 3
   },
   "file_extension": ".py",
   "mimetype": "text/x-python",
   "name": "python",
   "nbconvert_exporter": "python",
   "pygments_lexer": "ipython3",
   "version": "3.6.5"
  }
 },
 "nbformat": 4,
 "nbformat_minor": 2
}
