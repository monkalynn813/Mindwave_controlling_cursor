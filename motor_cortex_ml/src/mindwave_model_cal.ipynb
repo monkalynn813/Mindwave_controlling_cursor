{
 "cells": [
  {
   "cell_type": "code",
   "execution_count": 60,
   "metadata": {},
   "outputs": [],
   "source": [
    "import numpy as np\n",
    "from scipy import signal\n",
    "from sklearn.multiclass import OneVsRestClassifier\n",
    "from sklearn.neighbors import KNeighborsClassifier\n",
    "from sklearn.ensemble import AdaBoostClassifier\n",
    "from sklearn.linear_model import SGDClassifier\n",
    "from sklearn.ensemble import GradientBoostingClassifier\n",
    "from sklearn.ensemble import VotingClassifier\n",
    "from sklearn.tree import DecisionTreeClassifier\n",
    "from sklearn.discriminant_analysis import LinearDiscriminantAnalysis\n",
    "from sklearn.svm import LinearSVC\n",
    "from sklearn.neural_network import MLPClassifier\n",
    "from sklearn.pipeline import Pipeline\n",
    "from sklearn.svm import SVC\n",
    "import matplotlib.pyplot as plt\n",
    "from sklearn.model_selection import ShuffleSplit, cross_val_score\n",
    "from sklearn.preprocessing import LabelBinarizer\n",
    "import csv\n",
    "import pickle\n",
    "import datetime\n",
    "from sklearn.preprocessing import MinMaxScaler"
   ]
  },
  {
   "cell_type": "code",
   "execution_count": 3,
   "metadata": {},
   "outputs": [],
   "source": [
    "def data_preposcessing(x,y,chunk,fs,band,nothval,samplesize,channel_num=8,band2=None):\n",
    "    #Divide datas to chunks, each chunk coorespond to specific channel with specific label.\n",
    "    #Total chunk number = channel_num * record_size(chunk) *3\n",
    "    _total_chunk=channel_num*chunk*3\n",
    "\n",
    "    for k in range(channel_num):\n",
    "        locals()[\"channel\"+str(k+1)]=x[:,k]\n",
    "\n",
    "    eventsplit=[]\n",
    "    for u in range(int(chunk*3)):\n",
    "        event_locator=u*samplesize\n",
    "        eventsplit.append(int(event_locator))\n",
    "\n",
    "    for i in np.unique(y):\n",
    "        i=int(i)\n",
    "        locals()['ind'+str(i+1)]=[]\n",
    "    for split in eventsplit:\n",
    "        label_finder=int(y[split])\n",
    "        locals()['ind'+str(label_finder+1)].append([split,int(split+samplesize-1)])\n",
    "    for i in np.unique(y):\n",
    "        i=int(i)\n",
    "    #     locals()['ind_'+str(i+1)]=np.where(y==i)[0] ##left=-1,(ind0) ; right=1,(ind2); focus=0,(ind1);\n",
    "\n",
    "    #     locals()['ind'+str(i+1)]=[locals()['ind_'+str(int(i+1))][0]]  \n",
    "    #     for j in range(len(locals()['ind_'+str(i+1)])-1):  \n",
    "    #         if (locals()['ind_'+str(i+1)])[j]+1!=(locals()['ind_'+str(i+1)])[j+1]:\n",
    "    #             locals()['ind'+str(i+1)].append((locals()['ind_'+str(i+1)])[j])\n",
    "    #         if j>1 and (locals()['ind_'+str(i+1)])[j]-1!=(locals()['ind_'+str(i+1)])[j-1]:\n",
    "    #             (locals()['ind'+str(i+1)]).append((locals()['ind_'+str(i+1)])[j])\n",
    "    #     (locals()['ind'+str(i+1)]).append((locals()['ind_'+str(i+1)])[-1])   #find boundry of events\n",
    "\n",
    "        if chunk!=len((locals()['ind'+str(i+1)])):\n",
    "            print(\"error: chunk size and interval limit does not match. flag number:\",i)\n",
    "        for k in range(channel_num):\n",
    "            for g in range(int(len((locals()['ind'+str(i+1)])))):\n",
    "                locals()['channel'+str(k+1)+'_'+str(i+1)+'_chunk'+str(g+1)]=locals()['channel'+str(k+1)][(locals()['ind'+str(i+1)])[g][0]:(locals()['ind'+str(i+1)])[g][1]+1]\n",
    "\n",
    "    total_chunks=0\n",
    "    #apply bp and notch filter\n",
    "    #variable_channel#_label#_chunk#\n",
    "\n",
    "    for i in np.unique(y):\n",
    "        i=int(i)\n",
    "        for k in range(channel_num):\n",
    "            for g in range(int(len((locals()['ind'+str(i+1)])))):\n",
    "                data=locals()['channel'+str(k+1)+'_'+str(i+1)+'_chunk'+str(g+1)]\n",
    "                freq,ffty=fft(data,fs)\n",
    "                freq_ind=np.where((freq>=band[0])&(freq<=band[1]))[0]\n",
    "                desired_freq=freq[freq_ind]\n",
    "                amp_of_desired_freq=ffty[freq_ind]\n",
    "                average_amp=np.mean(amp_of_desired_freq)\n",
    "                if band2:\n",
    "                    freq_ind2=np.where((freq>=band2[0])&(freq<=band2[1]))[0]\n",
    "                    desired_freq2=freq[freq_ind2]\n",
    "                    amp_of_desired_freq2=ffty[freq_ind2]\n",
    "                    average_amp2=np.mean(amp_of_desired_freq2)\n",
    "                locals()['average_amp_'+str(k+1)+'_'+str(i+1)+'_'+str(g+1)]=np.array([average_amp,average_amp2])\n",
    "#                 bp_filtered=bandpass(band[0],band[1],data,fs) #apply band pass filter\n",
    "#                 channel_filtered=notch(notchval,bp_filtered,fs)\n",
    "#                 locals()['bp_filtered'+str(k+1)+'_'+str(i+1)+'_'+str(g+1)]=channel_filtered\n",
    "                total_chunks+=1\n",
    "    if total_chunks != _total_chunk: print('error: total chunks number does not match with the data acqusition')\n",
    "    ##################CNN input matrix generation#################################\n",
    "    labels=[]\n",
    "    for i in np.unique(y): \n",
    "        i=int(i)\n",
    "        for g in range(int(len((locals()['ind'+str(i+1)])))):\n",
    "            for k in range(channel_num):\n",
    "                data=locals()['average_amp_'+str(k+1)+'_'+str(i+1)+'_'+str(g+1)]\n",
    "                if k==0:\n",
    "                    CNNmatrices_mergechn=[data]\n",
    "                else:\n",
    "                    CNNmatrices_mergechn=np.append(CNNmatrices_mergechn,[data],axis=0)\n",
    "            if g==0 and i==-1: CNNmatrices=CNNmatrices_mergechn.reshape(1,CNNmatrices_mergechn.shape[0],CNNmatrices_mergechn.shape[1])\n",
    "            else: CNNmatrices=np.append(CNNmatrices,CNNmatrices_mergechn.reshape(1,CNNmatrices_mergechn.shape[0],CNNmatrices_mergechn.shape[1]),axis=0)\n",
    "            labels=np.append(labels,[i])\n",
    "    #     _shape=CNNmatrices.shape\n",
    "    #     CNN_input=CNNmatrices.reshape(_shape[0],1,_shape[1],_shape[2])\n",
    "    lb = LabelBinarizer()\n",
    "    label_enc=lb.fit_transform(labels)\n",
    "    return CNNmatrices,labels"
   ]
  },
  {
   "cell_type": "code",
   "execution_count": 212,
   "metadata": {},
   "outputs": [],
   "source": [
    "# set path to datasets\n",
    "datapath = '/home/jingyan/Documents/ME499-WinterProject/mindwave/src/motor_cortex_ml/data/'\n",
    "def load_record(sec,runnum=7):\n",
    "    for secnum in sec:\n",
    "        for run in range(1,runnum): #6runs for each session\n",
    "            savetag='_exp13_sec'+str(secnum)+'_run'+str(run)\n",
    "            csvname =datapath + 'record'+savetag+'.csv'\n",
    "            data = np.loadtxt(csvname,delimiter = ',')\n",
    "            if run==1 and secnum==sec[0]:\n",
    "                x = data[:,:-1]\n",
    "                y = data[:,-1]\n",
    "            else:\n",
    "                x=np.append(x,data[:,:-1],axis=0)\n",
    "                y=np.append(y,data[:,-1],axis=0)\n",
    "    return x, y\n",
    "def bandpass(start,stop,data,fs):\n",
    "    bp_Hz = np.array([start, stop])\n",
    "    b, a = signal.butter(5, bp_Hz / (fs *0.5), btype='bandpass')\n",
    "    return signal.lfilter(b, a, data, axis=0)\n",
    "\n",
    "def notch(val, data, fs):\n",
    "    bp_stop_Hz = val + 3.0 * np.array([-1, 1])\n",
    "    b, a = signal.butter(3, bp_stop_Hz / (fs *0.5), 'bandstop')\n",
    "    return signal.lfilter(b, a, data)\n",
    "\n",
    "def fft(data, fs):\n",
    "    L = len(data)\n",
    "    freq = np.linspace(0.0, 1.0 / (2.0 * fs **-1), int(L / 2))\n",
    "    yi = np.fft.fft(data)#[1:]\n",
    "    y = yi[range(int(L / 2))]\n",
    "    # ysample= (2.0*abs(yi/L))[range(int(L/2))]\n",
    "    return freq, abs(y)\n",
    "\n",
    "channel_num=8\n",
    "chunk=60 #number of trails for each task in one session\n",
    "fs=250\n",
    "band=(7,13)\n",
    "band2=(18,30)\n",
    "notchval=60\n",
    "samplesize=7.5*250\n",
    "train_data,train_label=load_record([5],4)\n",
    "# test_data,test_label=load_record([4],3)\n",
    "# train_data,train_labels=data_preposcessing(train_data,train_labels,chunk,fs,band,notchval,samplesize)"
   ]
  },
  {
   "cell_type": "code",
   "execution_count": null,
   "metadata": {},
   "outputs": [],
   "source": [
    "for k in range(channel_num):\n",
    "    locals()[\"channel\"+str(k+1)]=x[:,k]\n",
    "#Divide datas to chunks, each chunk coorespond to specific channel with specific y value.\n",
    "#Total chunk number = channel_num * record_size(chunk) *4\n",
    "_total_chunk=channel_num*chunk*4\n",
    "for i in np.unique(y):\n",
    "    i=int(i)\n",
    "    locals()['ind_'+str(i+1)]=np.where(y==i)[0] ##left=-1,(ind0) ; right=1,(ind2); focus=0,(ind1);\n",
    "   \n",
    "    locals()['ind'+str(i+1)]=[locals()['ind_'+str(int(i+1))][0]]\n",
    "    for j in range(len(locals()['ind_'+str(i+1)])-1):  \n",
    "        if (locals()['ind_'+str(i+1)])[j]+1!=(locals()['ind_'+str(i+1)])[j+1]:\n",
    "            locals()['ind'+str(i+1)].append((locals()['ind_'+str(i+1)])[j])\n",
    "        if j>1 and (locals()['ind_'+str(i+1)])[j]-1!=(locals()['ind_'+str(i+1)])[j-1]:\n",
    "            (locals()['ind'+str(i+1)]).append((locals()['ind_'+str(i+1)])[j])\n",
    "    (locals()['ind'+str(i+1)]).append((locals()['ind_'+str(i+1)])[-1])\n",
    "    if i!=0 and 2*chunk!=len((locals()['ind'+str(i+1)])):\n",
    "        print(\"error: chunk size and interval limit does not match. flag number:\",i)\n",
    "    elif i==0 and 4*chunk!=len((locals()['ind'+str(i+1)])):\n",
    "        print(\"error: chunk size and interval limit does not match. flag number: \",i)\n",
    "    for k in range(channel_num):\n",
    "        for g in range(int((len((locals()['ind'+str(i+1)])))/2)):\n",
    "            locals()['channel'+str(k+1)+'_'+str(i+1)+'_chunk'+str(g+1)]=locals()['channel'+str(k+1)][(locals()['ind'+str(i+1)])[2*g]:(locals()['ind'+str(i+1)])[2*g+1]+1]\n",
    "        "
   ]
  },
  {
   "cell_type": "code",
   "execution_count": null,
   "metadata": {},
   "outputs": [],
   "source": [
    "#Run this cell if doing FFT\n",
    "#DSP for individual chunk###########FFT\n",
    "total_chunks=0\n",
    "row=''\n",
    "#generate average amplitude of each channel for indivisual label in specific band range\n",
    "#variable_channel#_label#_chunk#\n",
    "\n",
    "for i in np.unique(y):\n",
    "    i=int(i)\n",
    "    for k in range(channel_num):\n",
    "        for g in range(int((len((locals()['ind'+str(i+1)])))/2)):\n",
    "            data=locals()['channel'+str(k+1)+'_'+str(i+1)+'_chunk'+str(g+1)]\n",
    "            \n",
    "################################dsp:fft##################################\n",
    "            freq,ffty=fft(data,fs)\n",
    "            freq_ind=np.where((freq>=band[0])&(freq<=band[1]))[0]\n",
    "            desired_freq=freq[freq_ind]\n",
    "            amp_of_desired_freq=ffty[freq_ind]\n",
    "            average_amp=np.mean(amp_of_desired_freq)\n",
    "            locals()['average_amp_'+str(k+1)+'_'+str(i+1)+'_'+str(g+1)]=average_amp\n",
    "\n",
    "            total_chunks+=1\n",
    "if total_chunks != _total_chunk: print('error: total chunks number does not match with the data acqusition')\n",
    "\n",
    "###################FFT input file generation##############################\n",
    "for i in np.unique(y):\n",
    "    i=int(i)\n",
    "    for g in range(int((len((locals()['ind'+str(i+1)])))/2)):\n",
    "            for k in range(channel_num):\n",
    "                row+= str(locals()['average_amp_'+str(k+1)+'_'+str(i+1)+'_'+str(g+1)])\n",
    "                row+=','\n",
    "            row+=str(i)\n",
    "            row+='\\n'\n",
    "with open(savedsp,'w') as f:\n",
    "    f.write(row)\n",
    "dspdata = np.loadtxt(savedsp,delimiter = ',')\n",
    "dspx = dspdata[:,:-1]\n",
    "dspy = dspdata[:,-1]"
   ]
  },
  {
   "cell_type": "code",
   "execution_count": null,
   "metadata": {},
   "outputs": [],
   "source": [
    "#Run this cell if doing CSP\n",
    "#DSP for individual chunk###################CSP\n",
    "x_2class=np.append(x[ind_0],x[ind_2],axis=0)\n",
    "y_2class=np.append(y[ind_0],y[ind_2],axis=0)\n",
    "x=x_2class\n",
    "y=y_2class\n",
    "total_chunks=0\n",
    "#generate average amplitude of each channel for indivisual label in specific band range\n",
    "#variable_channel#_label#_chunk#\n",
    "\n",
    "for i in np.unique(y):\n",
    "    i=int(i)\n",
    "    for k in range(channel_num):\n",
    "        for g in range(int((len((locals()['ind'+str(i+1)])))/2)):\n",
    "            data=locals()['channel'+str(k+1)+'_'+str(i+1)+'_chunk'+str(g+1)]\n",
    "            channel_filtered=bandpass(band[0],band[1],data,fs)\n",
    "            locals()['bp_filtered'+str(k+1)+'_'+str(i+1)+'_'+str(g+1)]=channel_filtered\n",
    "            total_chunks+=1\n",
    "if total_chunks != _total_chunk: print('error: total chunks number does not match with the data acqusition')\n",
    "\n",
    "    \n",
    "##################CSP input matrix generation#################################\n",
    "labels=[]\n",
    "for i in np.unique(y): \n",
    "    i=int(i)\n",
    "    for g in range(int((len((locals()['ind'+str(i+1)])))/2)):\n",
    "        for k in range(channel_num):\n",
    "            data=locals()['bp_filtered'+str(k+1)+'_'+str(i+1)+'_'+str(g+1)]\n",
    "            if k==0:\n",
    "                CSPmatrices_mergechn=[data]\n",
    "            else:\n",
    "                CSPmatrices_mergechn=np.append(CSPmatrices_mergechn,[data],axis=0)\n",
    "        if g==0 and i==-1: CSPmatrices=CSPmatrices_mergechn.reshape(1,CSPmatrices_mergechn.shape[0],CSPmatrices_mergechn.shape[1])\n",
    "        else: CSPmatrices=np.append(CSPmatrices,CSPmatrices_mergechn.reshape(1,CSPmatrices_mergechn.shape[0],CSPmatrices_mergechn.shape[1]),axis=0)\n",
    "        if i!=1: l=1\n",
    "        else: l=0\n",
    "        labels=np.append(labels,[l]) #####label =l -> different moving vs not moving   ####if previous cell ran: label = i for left vs right movement\n"
   ]
  },
  {
   "cell_type": "code",
   "execution_count": null,
   "metadata": {},
   "outputs": [],
   "source": [
    "#Run this cell if doing CNN\n",
    "#DSP for individual chunk###################CNN\n",
    "total_chunks=0\n",
    "#generate average amplitude of each channel for indivisual label in specific band range\n",
    "#variable_channel#_label#_chunk#\n",
    "\n",
    "for i in np.unique(y):\n",
    "    i=int(i)\n",
    "    for k in range(channel_num):\n",
    "        for g in range(int((len((locals()['ind'+str(i+1)])))/2)):\n",
    "            data=locals()['channel'+str(k+1)+'_'+str(i+1)+'_chunk'+str(g+1)]\n",
    "            channel_filtered=bandpass(band[0],band[1],data,fs)\n",
    "            locals()['bp_filtered'+str(k+1)+'_'+str(i+1)+'_'+str(g+1)]=channel_filtered\n",
    "            total_chunks+=1\n",
    "if total_chunks != _total_chunk: print('error: total chunks number does not match with the data acqusition')\n",
    "\n",
    "    \n",
    "##################CNN input matrix generation#################################\n",
    "labels=[]\n",
    "for i in np.unique(y): \n",
    "    i=int(i)\n",
    "    for g in range(int((len((locals()['ind'+str(i+1)])))/2)):\n",
    "        for k in range(channel_num):\n",
    "            data=locals()['bp_filtered'+str(k+1)+'_'+str(i+1)+'_'+str(g+1)]\n",
    "            if k==0:\n",
    "                CNNmatrices_mergechn=[data]\n",
    "            else:\n",
    "                CNNmatrices_mergechn=np.append(CNNmatrices_mergechn,[data],axis=0)\n",
    "        if g==0 and i==-1: CNNmatrices=CNNmatrices_mergechn.reshape(1,CNNmatrices_mergechn.shape[0],CNNmatrices_mergechn.shape[1])\n",
    "        else: CNNmatrices=np.append(CNNmatrices,CNNmatrices_mergechn.reshape(1,CNNmatrices_mergechn.shape[0],CNNmatrices_mergechn.shape[1]),axis=0)\n",
    "        labels=np.append(labels,[i])\n",
    "_shape=CNNmatrices.shape\n",
    "CNN_input=CNNmatrices.reshape(_shape[0],1,_shape[1],_shape[2])\n",
    "lb = LabelBinarizer()\n",
    "label_enc=lb.fit_transform(labels)\n",
    "np.savetxt(\"labels.csv\", label_enc, delimiter=\",\")"
   ]
  },
  {
   "cell_type": "code",
   "execution_count": 228,
   "metadata": {},
   "outputs": [],
   "source": [
    "remove_list=[0]\n",
    "drop_list=np.isin(train_label,remove_list,invert=True)\n",
    "drop_array=np.array(drop_list)\n",
    "label_keep=train_label[drop_array]\n",
    "train_keep=train_data[drop_array]\n",
    "# drop_list2=np.isin(test_labels,remove_list,invert=True)\n",
    "# drop_array2=np.array(drop_list2)\n",
    "# eval_keep=test_data[drop_array2]\n",
    "# eval_label_keep=test_labels[drop_array2]"
   ]
  },
  {
   "cell_type": "code",
   "execution_count": 229,
   "metadata": {},
   "outputs": [
    {
     "name": "stdout",
     "output_type": "stream",
     "text": [
      "((4050, 16), (4050,))\n"
     ]
    }
   ],
   "source": [
    "scaler=MinMaxScaler()\n",
    "scaled_train_data=scaler.fit_transform(train_data)\n",
    "from sklearn.model_selection import train_test_split\n",
    "x_train,x_test,y_train,y_test=train_test_split(train_keep,label_keep,test_size=0.1)\n",
    "print(x_train.shape,y_train.shape)"
   ]
  },
  {
   "cell_type": "code",
   "execution_count": 230,
   "metadata": {},
   "outputs": [
    {
     "name": "stdout",
     "output_type": "stream",
     "text": [
      "(0.5, 0.5288888888888889)\n"
     ]
    }
   ],
   "source": [
    "#Linear SVM classifier\n",
    "clf1 = LinearSVC(C = 0.1, intercept_scaling=1, loss='hinge', max_iter=1000,multi_class='ovr', penalty='l2', random_state=1, tol=0.00001)\n",
    "clf1.fit(x_train,y_train)\n",
    "score_train1=clf1.score(x_train,y_train)\n",
    "score_test1=clf1.score(x_test,y_test)\n",
    "print(score_train1,score_test1)"
   ]
  },
  {
   "cell_type": "code",
   "execution_count": 231,
   "metadata": {},
   "outputs": [
    {
     "name": "stdout",
     "output_type": "stream",
     "text": [
      "(0.6877037037037037, 0.3482222222222222)\n"
     ]
    }
   ],
   "source": [
    "model=KNeighborsClassifier(n_neighbors=7)\n",
    "model.fit(train_data,train_label)\n",
    "score_train=model.score(train_data,train_label)\n",
    "score_test=model.score(test_data,test_label)\n",
    "print(score_train,score_test)\n",
    "model_filename='mindwave_model.pkl'\n",
    "with open(model_filename,'wb') as file:\n",
    "    pickle.dump(model,file)"
   ]
  },
  {
   "cell_type": "code",
   "execution_count": 232,
   "metadata": {},
   "outputs": [
    {
     "name": "stdout",
     "output_type": "stream",
     "text": [
      "(0.7237037037037037, 0.62)\n"
     ]
    }
   ],
   "source": [
    "model=GradientBoostingClassifier()\n",
    "model.fit(x_train,y_train)\n",
    "score_train=model.score(x_train,y_train)\n",
    "score_test=model.score(x_test,y_test)\n",
    "print(score_train,score_test)\n",
    "model_filename='mindwave_model.pkl'\n",
    "with open(model_filename,'wb') as file:\n",
    "    pickle.dump(model,file)"
   ]
  },
  {
   "cell_type": "code",
   "execution_count": 233,
   "metadata": {},
   "outputs": [
    {
     "name": "stdout",
     "output_type": "stream",
     "text": [
      "(0.6861728395061728, 0.5844444444444444)\n"
     ]
    }
   ],
   "source": [
    "model=AdaBoostClassifier(n_estimators=100)#OneVsRestClassifier(SVC(kernel='linear'))\n",
    "model.fit(x_train,y_train)\n",
    "score_train=model.score(x_train,y_train)\n",
    "score_test=model.score(x_test,y_test)\n",
    "print(score_train,score_test)\n",
    "# model_filename='mindwave_model.pkl'\n",
    "# with open(model_filename,'wb') as file:\n",
    "#     pickle.dump(model,file)"
   ]
  },
  {
   "cell_type": "code",
   "execution_count": 234,
   "metadata": {},
   "outputs": [
    {
     "name": "stdout",
     "output_type": "stream",
     "text": [
      "(1.0, 0.6177777777777778)\n"
     ]
    }
   ],
   "source": [
    "model=DecisionTreeClassifier()\n",
    "model.fit(x_train,y_train)\n",
    "score_train=model.score(x_train,y_train)\n",
    "score_test=model.score(x_test,y_test)\n",
    "print(score_train,score_test)\n",
    "model_filename='mindwave_model.pkl'\n",
    "with open(model_filename,'wb') as file:\n",
    "    pickle.dump(model,file,protocol=2)"
   ]
  },
  {
   "cell_type": "code",
   "execution_count": 235,
   "metadata": {},
   "outputs": [
    {
     "name": "stdout",
     "output_type": "stream",
     "text": [
      "(0.5997530864197531, 0.6222222222222222)\n"
     ]
    }
   ],
   "source": [
    "model=LinearDiscriminantAnalysis()\n",
    "model.fit(x_train,y_train)\n",
    "score_train=model.score(x_train,y_train)\n",
    "score_test=model.score(x_test,y_test)\n",
    "print(score_train,score_test)\n",
    "# model_filename='mindwave_model.pkl'\n",
    "# with open(model_filename,'wb') as file:\n",
    "#     pickle.dump(model,file)"
   ]
  },
  {
   "cell_type": "code",
   "execution_count": 236,
   "metadata": {},
   "outputs": [
    {
     "name": "stdout",
     "output_type": "stream",
     "text": [
      "(1.0, 0.47333333333333333)\n"
     ]
    }
   ],
   "source": [
    "model2 = SVC(20,'rbf', degree=10, gamma='auto', coef0=0.0, tol=0.001, cache_size=10000, max_iter=-1, decision_function_shape='ovr')\n",
    "model2.fit(x_train,y_train)\n",
    "score_train2=model2.score(x_train,y_train)\n",
    "score_test2=model2.score(x_test,y_test)\n",
    "print(score_train2,score_test2)"
   ]
  },
  {
   "cell_type": "code",
   "execution_count": 242,
   "metadata": {},
   "outputs": [],
   "source": [
    "=np.array([1,2,3])"
   ]
  },
  {
   "cell_type": "code",
   "execution_count": 289,
   "metadata": {},
   "outputs": [],
   "source": [
    "rawdata=[]"
   ]
  },
  {
   "cell_type": "code",
   "execution_count": 250,
   "metadata": {},
   "outputs": [],
   "source": [
    "rawdata.append(a)"
   ]
  },
  {
   "cell_type": "code",
   "execution_count": 294,
   "metadata": {},
   "outputs": [
    {
     "data": {
      "text/plain": [
       "[array([2, 3, 4, 5, 6, 7, 8, 9]),\n",
       " array([2, 3, 4, 5, 6, 7, 8, 9]),\n",
       " array([2, 3, 4, 5, 6, 7, 8, 9]),\n",
       " array([2, 3, 4, 5, 6, 7, 8, 9])]"
      ]
     },
     "execution_count": 294,
     "metadata": {},
     "output_type": "execute_result"
    }
   ],
   "source": [
    "rawdata"
   ]
  },
  {
   "cell_type": "code",
   "execution_count": 297,
   "metadata": {},
   "outputs": [
    {
     "data": {
      "text/plain": [
       "(4, 8)"
      ]
     },
     "execution_count": 297,
     "metadata": {},
     "output_type": "execute_result"
    }
   ],
   "source": [
    "np.array(rawdata)"
   ]
  },
  {
   "cell_type": "code",
   "execution_count": 258,
   "metadata": {},
   "outputs": [
    {
     "data": {
      "text/plain": [
       "array([[1, 2, 3]])"
      ]
     },
     "execution_count": 258,
     "metadata": {},
     "output_type": "execute_result"
    }
   ],
   "source": [
    "a.reshape(1,3)"
   ]
  },
  {
   "cell_type": "code",
   "execution_count": 260,
   "metadata": {},
   "outputs": [],
   "source": [
    "sample_channel_data=[1,2,3,4,5,6,7,8]"
   ]
  },
  {
   "cell_type": "code",
   "execution_count": 261,
   "metadata": {},
   "outputs": [],
   "source": [
    "csd_input=np.array(sample_channel_data).reshape(-1,1)"
   ]
  },
  {
   "cell_type": "code",
   "execution_count": 263,
   "metadata": {},
   "outputs": [
    {
     "data": {
      "text/plain": [
       "(8, 1)"
      ]
     },
     "execution_count": 263,
     "metadata": {},
     "output_type": "execute_result"
    }
   ],
   "source": [
    "csd_input.shape"
   ]
  },
  {
   "cell_type": "code",
   "execution_count": 264,
   "metadata": {},
   "outputs": [],
   "source": [
    "csd_output=csd_input+1"
   ]
  },
  {
   "cell_type": "code",
   "execution_count": 287,
   "metadata": {},
   "outputs": [],
   "source": [
    "out=csd_output.reshape(8,)"
   ]
  },
  {
   "cell_type": "code",
   "execution_count": 293,
   "metadata": {},
   "outputs": [],
   "source": [
    "rawdata.append(out)"
   ]
  },
  {
   "cell_type": "code",
   "execution_count": 288,
   "metadata": {},
   "outputs": [
    {
     "data": {
      "text/plain": [
       "array([2, 3, 4, 5, 6, 7, 8, 9])"
      ]
     },
     "execution_count": 288,
     "metadata": {},
     "output_type": "execute_result"
    }
   ],
   "source": [
    "out"
   ]
  },
  {
   "cell_type": "code",
   "execution_count": null,
   "metadata": {},
   "outputs": [],
   "source": []
  }
 ],
 "metadata": {
  "kernelspec": {
   "display_name": "Python 2",
   "language": "python",
   "name": "python2"
  },
  "language_info": {
   "codemirror_mode": {
    "name": "ipython",
    "version": 2
   },
   "file_extension": ".py",
   "mimetype": "text/x-python",
   "name": "python",
   "nbconvert_exporter": "python",
   "pygments_lexer": "ipython2",
   "version": "2.7.15rc1"
  }
 },
 "nbformat": 4,
 "nbformat_minor": 2
}
