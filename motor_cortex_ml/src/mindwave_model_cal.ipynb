{
 "cells": [
  {
   "cell_type": "code",
   "execution_count": 1,
   "metadata": {},
   "outputs": [],
   "source": [
    "import numpy as np\n",
    "from scipy import signal\n",
    "from sklearn.multiclass import OneVsRestClassifier\n",
    "from sklearn.neighbors import KNeighborsClassifier\n",
    "from sklearn.ensemble import AdaBoostClassifier\n",
    "from sklearn.linear_model import SGDClassifier\n",
    "from sklearn.ensemble import GradientBoostingClassifier\n",
    "from sklearn.ensemble import VotingClassifier\n",
    "from sklearn.tree import DecisionTreeClassifier\n",
    "from sklearn.discriminant_analysis import LinearDiscriminantAnalysis\n",
    "from sklearn.svm import LinearSVC\n",
    "from sklearn.neural_network import MLPClassifier\n",
    "from sklearn.pipeline import Pipeline\n",
    "from sklearn.svm import SVC\n",
    "import matplotlib.pyplot as plt\n",
    "from sklearn.model_selection import ShuffleSplit, cross_val_score\n",
    "from sklearn.preprocessing import LabelBinarizer\n",
    "# from mne import Epochs, pick_types, find_events\n",
    "# from mne.channels import read_layout\n",
    "# from mne.io import concatenate_raws, read_raw_edf\n",
    "# from mne.datasets import eegbci\n",
    "# from mne.decoding import CSP\n",
    "import csv\n",
    "import pickle\n",
    "import datetime\n"
   ]
  },
  {
   "cell_type": "code",
   "execution_count": 2,
   "metadata": {},
   "outputs": [],
   "source": [
    "# set path to datasets\n",
    "savetag='_exp7'\n",
    "\n",
    "datapath = '/home/jingyan/Documents/ME499-WinterProject/mindwave/src/motor_cortex_ml/data/'\n",
    "csvname =datapath + 'record'+savetag+'.csv'\n",
    "# csvname =datapath +'record_20rfft.csv'\n",
    "data = np.loadtxt(csvname,delimiter = ',')\n",
    "savedsp=datapath+'dsp'+savetag+'.csv'\n",
    "# get input/output pairs\n",
    "x = data[:,:-1]\n",
    "y = data[:,-1]\n",
    "channel_num=8\n",
    "chunk=40 #matches self.recordsize in mindwave_record.py\n",
    "fs=250\n",
    "band=(7,13)\n",
    "\n",
    "def bandpass(start,stop,data,fs):\n",
    "    bp_Hz = np.array([start, stop])\n",
    "    b, a = signal.butter(5, bp_Hz / (fs / 2.0), btype='bandpass')\n",
    "    return signal.lfilter(b, a, data, axis=0)\n",
    "\n",
    "def notch(val, data, fs):\n",
    "    bp_stop_Hz = val + 3.0 * np.array([-1, 1])\n",
    "    b, a = signal.butter(3, bp_stop_Hz / (fs / 2.0), 'bandstop')\n",
    "    return signal.lfilter(b, a, data)\n",
    "\n",
    "def fft(data, fs):\n",
    "    L = len(data)\n",
    "    freq = np.linspace(0.0, 1.0 / (2.0 * fs **-1), int(L / 2))\n",
    "    yi = np.fft.fft(data)#[1:]\n",
    "    y = yi[range(int(L / 2))]\n",
    "    # ysample= (2.0*abs(yi/L))[range(int(L/2))]\n",
    "    return freq, abs(y)\n"
   ]
  },
  {
   "cell_type": "code",
   "execution_count": 3,
   "metadata": {},
   "outputs": [],
   "source": [
    "for k in range(channel_num):\n",
    "    locals()[\"channel\"+str(k+1)]=x[:,k]\n",
    "#Divide datas to chunks, each chunk coorespond to specific channel with specific y value.\n",
    "#Total chunk number = channel_num * record_size(chunk) *4\n",
    "_total_chunk=channel_num*chunk*4\n",
    "for i in np.unique(y):\n",
    "    i=int(i)\n",
    "    locals()['ind_'+str(i+1)]=np.where(y==i)[0] ##left=-1,(ind0) ; right=1,(ind2); focus=0,(ind1);\n",
    "   \n",
    "    locals()['ind'+str(i+1)]=[locals()['ind_'+str(int(i+1))][0]]\n",
    "    for j in range(len(locals()['ind_'+str(i+1)])-1):  \n",
    "        if (locals()['ind_'+str(i+1)])[j]+1!=(locals()['ind_'+str(i+1)])[j+1]:\n",
    "            locals()['ind'+str(i+1)].append((locals()['ind_'+str(i+1)])[j])\n",
    "        if j>1 and (locals()['ind_'+str(i+1)])[j]-1!=(locals()['ind_'+str(i+1)])[j-1]:\n",
    "            (locals()['ind'+str(i+1)]).append((locals()['ind_'+str(i+1)])[j])\n",
    "    (locals()['ind'+str(i+1)]).append((locals()['ind_'+str(i+1)])[-1])\n",
    "    if i!=0 and 2*chunk!=len((locals()['ind'+str(i+1)])):\n",
    "        print(\"error: chunk size and interval limit does not match. flag number:\",i)\n",
    "    elif i==0 and 4*chunk!=len((locals()['ind'+str(i+1)])):\n",
    "        print(\"error: chunk size and interval limit does not match. flag number: \",i)\n",
    "    for k in range(channel_num):\n",
    "        for g in range(int((len((locals()['ind'+str(i+1)])))/2)):\n",
    "            locals()['channel'+str(k+1)+'_'+str(i+1)+'_chunk'+str(g+1)]=locals()['channel'+str(k+1)][(locals()['ind'+str(i+1)])[2*g]:(locals()['ind'+str(i+1)])[2*g+1]+1]\n",
    "        "
   ]
  },
  {
   "cell_type": "code",
   "execution_count": 7,
   "metadata": {},
   "outputs": [],
   "source": [
    "#Run this cell if doing FFT\n",
    "#DSP for individual chunk###########FFT\n",
    "total_chunks=0\n",
    "row=''\n",
    "#generate average amplitude of each channel for indivisual label in specific band range\n",
    "#variable_channel#_label#_chunk#\n",
    "\n",
    "for i in np.unique(y):\n",
    "    i=int(i)\n",
    "    for k in range(channel_num):\n",
    "        for g in range(int((len((locals()['ind'+str(i+1)])))/2)):\n",
    "            data=locals()['channel'+str(k+1)+'_'+str(i+1)+'_chunk'+str(g+1)]\n",
    "            \n",
    "################################dsp:fft##################################\n",
    "            freq,ffty=fft(data,fs)\n",
    "            freq_ind=np.where((freq>=band[0])&(freq<=band[1]))[0]\n",
    "            desired_freq=freq[freq_ind]\n",
    "            amp_of_desired_freq=ffty[freq_ind]\n",
    "            average_amp=np.mean(amp_of_desired_freq)\n",
    "            locals()['average_amp_'+str(k+1)+'_'+str(i+1)+'_'+str(g+1)]=average_amp\n",
    "\n",
    "            total_chunks+=1\n",
    "if total_chunks != _total_chunk: print('error: total chunks number does not match with the data acqusition')\n",
    "\n",
    "###################FFT input file generation##############################\n",
    "for i in np.unique(y):\n",
    "    i=int(i)\n",
    "    for g in range(int((len((locals()['ind'+str(i+1)])))/2)):\n",
    "            for k in range(channel_num):\n",
    "                row+= str(locals()['average_amp_'+str(k+1)+'_'+str(i+1)+'_'+str(g+1)])\n",
    "                row+=','\n",
    "            row+=str(i)\n",
    "            row+='\\n'\n",
    "with open(savedsp,'w') as f:\n",
    "    f.write(row)\n",
    "dspdata = np.loadtxt(savedsp,delimiter = ',')\n",
    "dspx = dspdata[:,:-1]\n",
    "dspy = dspdata[:,-1]"
   ]
  },
  {
   "cell_type": "code",
   "execution_count": 30,
   "metadata": {},
   "outputs": [
    {
     "name": "stdout",
     "output_type": "stream",
     "text": [
      "error: total chunks number does not match with the data acqusition\n"
     ]
    }
   ],
   "source": [
    "#Run this cell if doing CSP\n",
    "#DSP for individual chunk###################CSP\n",
    "x_2class=np.append(x[ind_0],x[ind_2],axis=0)\n",
    "y_2class=np.append(y[ind_0],y[ind_2],axis=0)\n",
    "x=x_2class\n",
    "y=y_2class\n",
    "total_chunks=0\n",
    "#generate average amplitude of each channel for indivisual label in specific band range\n",
    "#variable_channel#_label#_chunk#\n",
    "\n",
    "for i in np.unique(y):\n",
    "    i=int(i)\n",
    "    for k in range(channel_num):\n",
    "        for g in range(int((len((locals()['ind'+str(i+1)])))/2)):\n",
    "            data=locals()['channel'+str(k+1)+'_'+str(i+1)+'_chunk'+str(g+1)]\n",
    "            channel_filtered=bandpass(band[0],band[1],data,fs)\n",
    "            locals()['bp_filtered'+str(k+1)+'_'+str(i+1)+'_'+str(g+1)]=channel_filtered\n",
    "            total_chunks+=1\n",
    "if total_chunks != _total_chunk: print('error: total chunks number does not match with the data acqusition')\n",
    "\n",
    "    \n",
    "##################CSP input matrix generation#################################\n",
    "labels=[]\n",
    "for i in np.unique(y): \n",
    "    i=int(i)\n",
    "    for g in range(int((len((locals()['ind'+str(i+1)])))/2)):\n",
    "        for k in range(channel_num):\n",
    "            data=locals()['bp_filtered'+str(k+1)+'_'+str(i+1)+'_'+str(g+1)]\n",
    "            if k==0:\n",
    "                CSPmatrices_mergechn=[data]\n",
    "            else:\n",
    "                CSPmatrices_mergechn=np.append(CSPmatrices_mergechn,[data],axis=0)\n",
    "        if g==0 and i==-1: CSPmatrices=CSPmatrices_mergechn.reshape(1,CSPmatrices_mergechn.shape[0],CSPmatrices_mergechn.shape[1])\n",
    "        else: CSPmatrices=np.append(CSPmatrices,CSPmatrices_mergechn.reshape(1,CSPmatrices_mergechn.shape[0],CSPmatrices_mergechn.shape[1]),axis=0)\n",
    "        if i!=1: l=1\n",
    "        else: l=0\n",
    "        labels=np.append(labels,[l]) #####label =l -> different moving vs not moving   ####if previous cell ran: label = i for left vs right movement\n"
   ]
  },
  {
   "cell_type": "code",
   "execution_count": 7,
   "metadata": {},
   "outputs": [],
   "source": [
    "#Run this cell if doing CNN\n",
    "#DSP for individual chunk###################CNN\n",
    "total_chunks=0\n",
    "#generate average amplitude of each channel for indivisual label in specific band range\n",
    "#variable_channel#_label#_chunk#\n",
    "\n",
    "for i in np.unique(y):\n",
    "    i=int(i)\n",
    "    for k in range(channel_num):\n",
    "        for g in range(int((len((locals()['ind'+str(i+1)])))/2)):\n",
    "            data=locals()['channel'+str(k+1)+'_'+str(i+1)+'_chunk'+str(g+1)]\n",
    "            channel_filtered=bandpass(band[0],band[1],data,fs)\n",
    "            locals()['bp_filtered'+str(k+1)+'_'+str(i+1)+'_'+str(g+1)]=channel_filtered\n",
    "            total_chunks+=1\n",
    "if total_chunks != _total_chunk: print('error: total chunks number does not match with the data acqusition')\n",
    "\n",
    "    \n",
    "##################CNN input matrix generation#################################\n",
    "labels=[]\n",
    "for i in np.unique(y): \n",
    "    i=int(i)\n",
    "    for g in range(int((len((locals()['ind'+str(i+1)])))/2)):\n",
    "        for k in range(channel_num):\n",
    "            data=locals()['bp_filtered'+str(k+1)+'_'+str(i+1)+'_'+str(g+1)]\n",
    "            if k==0:\n",
    "                CNNmatrices_mergechn=[data]\n",
    "            else:\n",
    "                CNNmatrices_mergechn=np.append(CNNmatrices_mergechn,[data],axis=0)\n",
    "        if g==0 and i==-1: CNNmatrices=CNNmatrices_mergechn.reshape(1,CNNmatrices_mergechn.shape[0],CNNmatrices_mergechn.shape[1])\n",
    "        else: CNNmatrices=np.append(CNNmatrices,CNNmatrices_mergechn.reshape(1,CNNmatrices_mergechn.shape[0],CNNmatrices_mergechn.shape[1]),axis=0)\n",
    "        labels=np.append(labels,[i])\n",
    "_shape=CNNmatrices.shape\n",
    "CNN_input=CNNmatrices.reshape(_shape[0],1,_shape[1],_shape[2])\n",
    "lb = LabelBinarizer()\n",
    "label_enc=lb.fit_transform(labels)\n",
    "np.savetxt(\"labels.csv\", label_enc, delimiter=\",\")"
   ]
  },
  {
   "cell_type": "code",
   "execution_count": 8,
   "metadata": {},
   "outputs": [
    {
     "data": {
      "text/plain": [
       "(160, 3)"
      ]
     },
     "execution_count": 8,
     "metadata": {},
     "output_type": "execute_result"
    }
   ],
   "source": [
    "label_enc.shape"
   ]
  },
  {
   "cell_type": "code",
   "execution_count": 6,
   "metadata": {},
   "outputs": [
    {
     "name": "stdout",
     "output_type": "stream",
     "text": [
      "Epoch 1/20\n"
     ]
    },
    {
     "ename": "InvalidArgumentError",
     "evalue": "Default MaxPoolingOp only supports NHWC on device type CPU\n\t [[Node: max_pooling2d_2/MaxPool = MaxPool[T=DT_FLOAT, _class=[\"loc:@training_1/Adam/gradients/max_pooling2d_2/MaxPool_grad/MaxPoolGrad\"], data_format=\"NCHW\", ksize=[1, 1, 1, 8], padding=\"VALID\", strides=[1, 1, 1, 8], _device=\"/job:localhost/replica:0/task:0/device:CPU:0\"](activation_2/Elu)]]",
     "output_type": "error",
     "traceback": [
      "\u001b[0;31m---------------------------------------------------------------------------\u001b[0m",
      "\u001b[0;31mInvalidArgumentError\u001b[0m                      Traceback (most recent call last)",
      "\u001b[0;32m<ipython-input-6-262ac079448f>\u001b[0m in \u001b[0;36m<module>\u001b[0;34m()\u001b[0m\n\u001b[1;32m      2\u001b[0m \u001b[0mmodel1\u001b[0m\u001b[0;34m=\u001b[0m\u001b[0mEEGNet\u001b[0m\u001b[0;34m(\u001b[0m\u001b[0mnb_classes\u001b[0m\u001b[0;34m=\u001b[0m\u001b[0;36m3\u001b[0m\u001b[0;34m,\u001b[0m\u001b[0mChans\u001b[0m\u001b[0;34m=\u001b[0m\u001b[0;36m8\u001b[0m\u001b[0;34m,\u001b[0m\u001b[0mSamples\u001b[0m\u001b[0;34m=\u001b[0m\u001b[0;36m1250\u001b[0m\u001b[0;34m)\u001b[0m\u001b[0;34m\u001b[0m\u001b[0m\n\u001b[1;32m      3\u001b[0m \u001b[0mmodel1\u001b[0m\u001b[0;34m.\u001b[0m\u001b[0mcompile\u001b[0m\u001b[0;34m(\u001b[0m\u001b[0mloss\u001b[0m\u001b[0;34m=\u001b[0m\u001b[0;34m'categorical_crossentropy'\u001b[0m\u001b[0;34m,\u001b[0m\u001b[0moptimizer\u001b[0m\u001b[0;34m=\u001b[0m\u001b[0;34m'adam'\u001b[0m\u001b[0;34m)\u001b[0m\u001b[0;34m\u001b[0m\u001b[0m\n\u001b[0;32m----> 4\u001b[0;31m \u001b[0mmodel1\u001b[0m\u001b[0;34m.\u001b[0m\u001b[0mfit\u001b[0m\u001b[0;34m(\u001b[0m\u001b[0mCNN_input\u001b[0m\u001b[0;34m,\u001b[0m\u001b[0mlabel_enc\u001b[0m\u001b[0;34m,\u001b[0m\u001b[0mbatch_size\u001b[0m\u001b[0;34m=\u001b[0m\u001b[0;36m5\u001b[0m\u001b[0;34m,\u001b[0m\u001b[0mepochs\u001b[0m\u001b[0;34m=\u001b[0m\u001b[0;36m20\u001b[0m\u001b[0;34m,\u001b[0m\u001b[0mverbose\u001b[0m\u001b[0;34m=\u001b[0m\u001b[0;36m2\u001b[0m\u001b[0;34m)\u001b[0m\u001b[0;34m\u001b[0m\u001b[0m\n\u001b[0m",
      "\u001b[0;32m~/.local/lib/python3.6/site-packages/tensorflow/python/keras/engine/training.py\u001b[0m in \u001b[0;36mfit\u001b[0;34m(self, x, y, batch_size, epochs, verbose, callbacks, validation_split, validation_data, shuffle, class_weight, sample_weight, initial_epoch, steps_per_epoch, validation_steps, **kwargs)\u001b[0m\n\u001b[1;32m   1346\u001b[0m           \u001b[0minitial_epoch\u001b[0m\u001b[0;34m=\u001b[0m\u001b[0minitial_epoch\u001b[0m\u001b[0;34m,\u001b[0m\u001b[0;34m\u001b[0m\u001b[0m\n\u001b[1;32m   1347\u001b[0m           \u001b[0msteps_per_epoch\u001b[0m\u001b[0;34m=\u001b[0m\u001b[0msteps_per_epoch\u001b[0m\u001b[0;34m,\u001b[0m\u001b[0;34m\u001b[0m\u001b[0m\n\u001b[0;32m-> 1348\u001b[0;31m           validation_steps=validation_steps)\n\u001b[0m\u001b[1;32m   1349\u001b[0m \u001b[0;34m\u001b[0m\u001b[0m\n\u001b[1;32m   1350\u001b[0m   def evaluate(self,\n",
      "\u001b[0;32m~/.local/lib/python3.6/site-packages/tensorflow/python/keras/engine/training_arrays.py\u001b[0m in \u001b[0;36mfit_loop\u001b[0;34m(model, inputs, targets, sample_weights, batch_size, epochs, verbose, callbacks, val_inputs, val_targets, val_sample_weights, shuffle, callback_metrics, initial_epoch, steps_per_epoch, validation_steps)\u001b[0m\n\u001b[1;32m    251\u001b[0m           \u001b[0mins_batch\u001b[0m\u001b[0;34m[\u001b[0m\u001b[0mi\u001b[0m\u001b[0;34m]\u001b[0m \u001b[0;34m=\u001b[0m \u001b[0mins_batch\u001b[0m\u001b[0;34m[\u001b[0m\u001b[0mi\u001b[0m\u001b[0;34m]\u001b[0m\u001b[0;34m.\u001b[0m\u001b[0mtoarray\u001b[0m\u001b[0;34m(\u001b[0m\u001b[0;34m)\u001b[0m\u001b[0;34m\u001b[0m\u001b[0m\n\u001b[1;32m    252\u001b[0m \u001b[0;34m\u001b[0m\u001b[0m\n\u001b[0;32m--> 253\u001b[0;31m         \u001b[0mouts\u001b[0m \u001b[0;34m=\u001b[0m \u001b[0mf\u001b[0m\u001b[0;34m(\u001b[0m\u001b[0mins_batch\u001b[0m\u001b[0;34m)\u001b[0m\u001b[0;34m\u001b[0m\u001b[0m\n\u001b[0m\u001b[1;32m    254\u001b[0m         \u001b[0;32mif\u001b[0m \u001b[0;32mnot\u001b[0m \u001b[0misinstance\u001b[0m\u001b[0;34m(\u001b[0m\u001b[0mouts\u001b[0m\u001b[0;34m,\u001b[0m \u001b[0mlist\u001b[0m\u001b[0;34m)\u001b[0m\u001b[0;34m:\u001b[0m\u001b[0;34m\u001b[0m\u001b[0m\n\u001b[1;32m    255\u001b[0m           \u001b[0mouts\u001b[0m \u001b[0;34m=\u001b[0m \u001b[0;34m[\u001b[0m\u001b[0mouts\u001b[0m\u001b[0;34m]\u001b[0m\u001b[0;34m\u001b[0m\u001b[0m\n",
      "\u001b[0;32m~/.local/lib/python3.6/site-packages/tensorflow/python/keras/backend.py\u001b[0m in \u001b[0;36m__call__\u001b[0;34m(self, inputs)\u001b[0m\n\u001b[1;32m   2893\u001b[0m         \u001b[0mfeed_symbols\u001b[0m \u001b[0;34m!=\u001b[0m \u001b[0mself\u001b[0m\u001b[0;34m.\u001b[0m\u001b[0m_feed_symbols\u001b[0m \u001b[0;32mor\u001b[0m\u001b[0;34m\u001b[0m\u001b[0m\n\u001b[1;32m   2894\u001b[0m         session != self._session):\n\u001b[0;32m-> 2895\u001b[0;31m       \u001b[0mself\u001b[0m\u001b[0;34m.\u001b[0m\u001b[0m_make_callable\u001b[0m\u001b[0;34m(\u001b[0m\u001b[0mfeed_arrays\u001b[0m\u001b[0;34m,\u001b[0m \u001b[0mfeed_symbols\u001b[0m\u001b[0;34m,\u001b[0m \u001b[0msymbol_vals\u001b[0m\u001b[0;34m,\u001b[0m \u001b[0msession\u001b[0m\u001b[0;34m)\u001b[0m\u001b[0;34m\u001b[0m\u001b[0m\n\u001b[0m\u001b[1;32m   2896\u001b[0m \u001b[0;34m\u001b[0m\u001b[0m\n\u001b[1;32m   2897\u001b[0m     \u001b[0mfetched\u001b[0m \u001b[0;34m=\u001b[0m \u001b[0mself\u001b[0m\u001b[0;34m.\u001b[0m\u001b[0m_callable_fn\u001b[0m\u001b[0;34m(\u001b[0m\u001b[0;34m*\u001b[0m\u001b[0marray_vals\u001b[0m\u001b[0;34m)\u001b[0m\u001b[0;34m\u001b[0m\u001b[0m\n",
      "\u001b[0;32m~/.local/lib/python3.6/site-packages/tensorflow/python/keras/backend.py\u001b[0m in \u001b[0;36m_make_callable\u001b[0;34m(self, feed_arrays, feed_symbols, symbol_vals, session)\u001b[0m\n\u001b[1;32m   2846\u001b[0m     \u001b[0mcallable_opts\u001b[0m\u001b[0;34m.\u001b[0m\u001b[0mtarget\u001b[0m\u001b[0;34m.\u001b[0m\u001b[0mappend\u001b[0m\u001b[0;34m(\u001b[0m\u001b[0mself\u001b[0m\u001b[0;34m.\u001b[0m\u001b[0mupdates_op\u001b[0m\u001b[0;34m.\u001b[0m\u001b[0mname\u001b[0m\u001b[0;34m)\u001b[0m\u001b[0;34m\u001b[0m\u001b[0m\n\u001b[1;32m   2847\u001b[0m     \u001b[0;31m# Create callable.\u001b[0m\u001b[0;34m\u001b[0m\u001b[0;34m\u001b[0m\u001b[0m\n\u001b[0;32m-> 2848\u001b[0;31m     \u001b[0mcallable_fn\u001b[0m \u001b[0;34m=\u001b[0m \u001b[0msession\u001b[0m\u001b[0;34m.\u001b[0m\u001b[0m_make_callable_from_options\u001b[0m\u001b[0;34m(\u001b[0m\u001b[0mcallable_opts\u001b[0m\u001b[0;34m)\u001b[0m\u001b[0;34m\u001b[0m\u001b[0m\n\u001b[0m\u001b[1;32m   2849\u001b[0m     \u001b[0;31m# Cache parameters corresponding to the generated callable, so that\u001b[0m\u001b[0;34m\u001b[0m\u001b[0;34m\u001b[0m\u001b[0m\n\u001b[1;32m   2850\u001b[0m     \u001b[0;31m# we can detect future mismatches and refresh the callable.\u001b[0m\u001b[0;34m\u001b[0m\u001b[0;34m\u001b[0m\u001b[0m\n",
      "\u001b[0;32m~/.local/lib/python3.6/site-packages/tensorflow/python/client/session.py\u001b[0m in \u001b[0;36m_make_callable_from_options\u001b[0;34m(self, callable_options)\u001b[0m\n\u001b[1;32m   1481\u001b[0m     \"\"\"\n\u001b[1;32m   1482\u001b[0m     \u001b[0mself\u001b[0m\u001b[0;34m.\u001b[0m\u001b[0m_extend_graph\u001b[0m\u001b[0;34m(\u001b[0m\u001b[0;34m)\u001b[0m\u001b[0;34m\u001b[0m\u001b[0m\n\u001b[0;32m-> 1483\u001b[0;31m     \u001b[0;32mreturn\u001b[0m \u001b[0mBaseSession\u001b[0m\u001b[0;34m.\u001b[0m\u001b[0m_Callable\u001b[0m\u001b[0;34m(\u001b[0m\u001b[0mself\u001b[0m\u001b[0;34m,\u001b[0m \u001b[0mcallable_options\u001b[0m\u001b[0;34m)\u001b[0m\u001b[0;34m\u001b[0m\u001b[0m\n\u001b[0m\u001b[1;32m   1484\u001b[0m \u001b[0;34m\u001b[0m\u001b[0m\n\u001b[1;32m   1485\u001b[0m \u001b[0;34m\u001b[0m\u001b[0m\n",
      "\u001b[0;32m~/.local/lib/python3.6/site-packages/tensorflow/python/client/session.py\u001b[0m in \u001b[0;36m__init__\u001b[0;34m(self, session, callable_options)\u001b[0m\n\u001b[1;32m   1439\u001b[0m           \u001b[0;32melse\u001b[0m\u001b[0;34m:\u001b[0m\u001b[0;34m\u001b[0m\u001b[0m\n\u001b[1;32m   1440\u001b[0m             self._handle = tf_session.TF_DeprecatedSessionMakeCallable(\n\u001b[0;32m-> 1441\u001b[0;31m                 session._session, options_ptr, status)\n\u001b[0m\u001b[1;32m   1442\u001b[0m       \u001b[0;32mfinally\u001b[0m\u001b[0;34m:\u001b[0m\u001b[0;34m\u001b[0m\u001b[0m\n\u001b[1;32m   1443\u001b[0m         \u001b[0mtf_session\u001b[0m\u001b[0;34m.\u001b[0m\u001b[0mTF_DeleteBuffer\u001b[0m\u001b[0;34m(\u001b[0m\u001b[0moptions_ptr\u001b[0m\u001b[0;34m)\u001b[0m\u001b[0;34m\u001b[0m\u001b[0m\n",
      "\u001b[0;32m~/.local/lib/python3.6/site-packages/tensorflow/python/framework/errors_impl.py\u001b[0m in \u001b[0;36m__exit__\u001b[0;34m(self, type_arg, value_arg, traceback_arg)\u001b[0m\n\u001b[1;32m    517\u001b[0m             \u001b[0;32mNone\u001b[0m\u001b[0;34m,\u001b[0m \u001b[0;32mNone\u001b[0m\u001b[0;34m,\u001b[0m\u001b[0;34m\u001b[0m\u001b[0m\n\u001b[1;32m    518\u001b[0m             \u001b[0mcompat\u001b[0m\u001b[0;34m.\u001b[0m\u001b[0mas_text\u001b[0m\u001b[0;34m(\u001b[0m\u001b[0mc_api\u001b[0m\u001b[0;34m.\u001b[0m\u001b[0mTF_Message\u001b[0m\u001b[0;34m(\u001b[0m\u001b[0mself\u001b[0m\u001b[0;34m.\u001b[0m\u001b[0mstatus\u001b[0m\u001b[0;34m.\u001b[0m\u001b[0mstatus\u001b[0m\u001b[0;34m)\u001b[0m\u001b[0;34m)\u001b[0m\u001b[0;34m,\u001b[0m\u001b[0;34m\u001b[0m\u001b[0m\n\u001b[0;32m--> 519\u001b[0;31m             c_api.TF_GetCode(self.status.status))\n\u001b[0m\u001b[1;32m    520\u001b[0m     \u001b[0;31m# Delete the underlying status object from memory otherwise it stays alive\u001b[0m\u001b[0;34m\u001b[0m\u001b[0;34m\u001b[0m\u001b[0m\n\u001b[1;32m    521\u001b[0m     \u001b[0;31m# as there is a reference to status from this from the traceback due to\u001b[0m\u001b[0;34m\u001b[0m\u001b[0;34m\u001b[0m\u001b[0m\n",
      "\u001b[0;31mInvalidArgumentError\u001b[0m: Default MaxPoolingOp only supports NHWC on device type CPU\n\t [[Node: max_pooling2d_2/MaxPool = MaxPool[T=DT_FLOAT, _class=[\"loc:@training_1/Adam/gradients/max_pooling2d_2/MaxPool_grad/MaxPoolGrad\"], data_format=\"NCHW\", ksize=[1, 1, 1, 8], padding=\"VALID\", strides=[1, 1, 1, 8], _device=\"/job:localhost/replica:0/task:0/device:CPU:0\"](activation_2/Elu)]]"
     ]
    }
   ],
   "source": [
    "from EEGModels import EEGNet,ShallowConvNet,DeepConvNet\n",
    "model1=EEGNet(nb_classes=3,Chans=8,Samples=1250)\n",
    "model1.compile(loss='categorical_crossentropy',optimizer='adam')\n",
    "model1.fit(CNN_input,label_enc,batch_size=5,epochs=20,verbose=2)"
   ]
  },
  {
   "cell_type": "code",
   "execution_count": null,
   "metadata": {},
   "outputs": [],
   "source": []
  },
  {
   "cell_type": "code",
   "execution_count": 17,
   "metadata": {},
   "outputs": [
    {
     "name": "stdout",
     "output_type": "stream",
     "text": [
      "_________________________________________________________________\n",
      "Layer (type)                 Output Shape              Param #   \n",
      "=================================================================\n",
      "input_7 (InputLayer)         (None, 1, 8, 1250)        0         \n",
      "_________________________________________________________________\n",
      "conv2d_12 (Conv2D)           (None, 40, 8, 1226)       1040      \n",
      "_________________________________________________________________\n",
      "conv2d_13 (Conv2D)           (None, 40, 1, 1226)       12800     \n",
      "_________________________________________________________________\n",
      "batch_normalization_6 (Batch (None, 40, 1, 1226)       160       \n",
      "_________________________________________________________________\n",
      "activation_18 (Activation)   (None, 40, 1, 1226)       0         \n",
      "_________________________________________________________________\n",
      "average_pooling2d_6 (Average (None, 40, 1, 77)         0         \n",
      "_________________________________________________________________\n",
      "activation_19 (Activation)   (None, 40, 1, 77)         0         \n",
      "_________________________________________________________________\n",
      "dropout_6 (Dropout)          (None, 40, 1, 77)         0         \n",
      "_________________________________________________________________\n",
      "flatten_6 (Flatten)          (None, 3080)              0         \n",
      "_________________________________________________________________\n",
      "dense_6 (Dense)              (None, 3)                 9243      \n",
      "_________________________________________________________________\n",
      "activation_20 (Activation)   (None, 3)                 0         \n",
      "=================================================================\n",
      "Total params: 23,243\n",
      "Trainable params: 23,163\n",
      "Non-trainable params: 80\n",
      "_________________________________________________________________\n"
     ]
    }
   ],
   "source": [
    "model1.summary()"
   ]
  },
  {
   "cell_type": "code",
   "execution_count": 25,
   "metadata": {},
   "outputs": [
    {
     "name": "stdout",
     "output_type": "stream",
     "text": [
      "Estimating covariance using EMPIRICAL\n",
      "Done.\n",
      "Estimating covariance using EMPIRICAL\n",
      "Done.\n"
     ]
    },
    {
     "data": {
      "text/plain": [
       "0.75"
      ]
     },
     "execution_count": 25,
     "metadata": {},
     "output_type": "execute_result"
    }
   ],
   "source": [
    "csp = CSP(n_components=8, reg=None, log=True, norm_trace=False)\n",
    "x_train=csp.fit_transform(CSPmatrices,labels)\n",
    "lda =LinearDiscriminantAnalysis()\n",
    "lda.fit(x_train,labels)\n",
    "lda.score(x_train,labels)"
   ]
  },
  {
   "cell_type": "code",
   "execution_count": 9,
   "metadata": {},
   "outputs": [],
   "source": [
    "from sklearn.model_selection import train_test_split\n",
    "x_train,x_test,y_train,y_test=train_test_split(x,y,test_size=0.2)\n"
   ]
  },
  {
   "cell_type": "code",
   "execution_count": 7,
   "metadata": {},
   "outputs": [],
   "source": [
    "left_sp=3*x[:,2]-x[:,0]-x[:,4]-x[:,6]\n",
    "right_sp=3*x[:,3]-x[:,1]-x[:,5]-x[:,7]\n",
    "x_sp=np.append(left_sp.reshape(len(left_sp),1),right_sp.reshape(len(right_sp),1),axis=1)\n",
    "x_train,x_test,y_train,y_test=train_test_split(x_sp,y,test_size=0.2)"
   ]
  },
  {
   "cell_type": "code",
   "execution_count": 12,
   "metadata": {},
   "outputs": [
    {
     "name": "stdout",
     "output_type": "stream",
     "text": [
      "(0.84025, 0.74575)\n"
     ]
    }
   ],
   "source": [
    "model=KNeighborsClassifier(n_neighbors=5)\n",
    "model.fit(x_train,y_train)\n",
    "score_train=model.score(x_train,y_train)\n",
    "score_test=model.score(x_test,y_test)\n",
    "print(score_train,score_test)\n",
    "model_filename='mindwave_model.pkl'\n",
    "with open(model_filename,'wb') as file:\n",
    "    pickle.dump(model,file)"
   ]
  },
  {
   "cell_type": "code",
   "execution_count": 33,
   "metadata": {},
   "outputs": [
    {
     "name": "stdout",
     "output_type": "stream",
     "text": [
      "(0.6325625, 0.6055)\n"
     ]
    }
   ],
   "source": [
    "model=GradientBoostingClassifier()\n",
    "model.fit(x_train,y_train)\n",
    "score_train=model.score(x_train,y_train)\n",
    "score_test=model.score(x_test,y_test)\n",
    "print(score_train,score_test)\n",
    "model_filename='mindwave_model.pkl'\n",
    "with open(model_filename,'wb') as file:\n",
    "    pickle.dump(model,file)"
   ]
  },
  {
   "cell_type": "code",
   "execution_count": 49,
   "metadata": {},
   "outputs": [
    {
     "name": "stdout",
     "output_type": "stream",
     "text": [
      "0.5040625 0.50825\n"
     ]
    }
   ],
   "source": [
    "model=AdaBoostClassifier(n_estimators=60)#OneVsRestClassifier(SVC(kernel='linear'))\n",
    "model.fit(x_train,y_train)\n",
    "score_train=model.score(x_train,y_train)\n",
    "score_test=model.score(x_test,y_test)\n",
    "print(score_train,score_test)\n",
    "model_filename='mindwave_model.pkl'\n",
    "with open(model_filename,'wb') as file:\n",
    "    pickle.dump(model,file)"
   ]
  },
  {
   "cell_type": "code",
   "execution_count": 86,
   "metadata": {},
   "outputs": [
    {
     "name": "stdout",
     "output_type": "stream",
     "text": [
      "0.5438\n"
     ]
    }
   ],
   "source": [
    "model=OneVsRestClassifier(SVC(kernel='linear'))\n",
    "model.fit(x,y)\n",
    "score=model.score(x,y)\n",
    "print(score)\n",
    "model_filename='mindwave_model_exp4_ova.pkl'\n",
    "with open(model_filename,'wb') as file:\n",
    "    pickle.dump(model,file)"
   ]
  },
  {
   "cell_type": "code",
   "execution_count": 27,
   "metadata": {},
   "outputs": [
    {
     "name": "stdout",
     "output_type": "stream",
     "text": [
      "0.9696875 0.623\n"
     ]
    }
   ],
   "source": [
    "model=SVC(gamma='scale', decision_function_shape='ovo')\n",
    "model.fit(x_train,y_train)\n",
    "score_train=model.score(x_train,y_train)\n",
    "score_test=model.score(x_test,y_test)\n",
    "print(score_train,score_test)\n",
    "model_filename='mindwave_model_exp4_svc.pkl'\n",
    "with open(model_filename,'wb') as file:\n",
    "    pickle.dump(model,file)\n"
   ]
  },
  {
   "cell_type": "code",
   "execution_count": 80,
   "metadata": {},
   "outputs": [
    {
     "name": "stdout",
     "output_type": "stream",
     "text": [
      "1.0\n"
     ]
    }
   ],
   "source": [
    "model=DecisionTreeClassifier()\n",
    "model.fit(x,y)\n",
    "score=model.score(x,y)\n",
    "print(score)\n",
    "model_filename='mindwave_model.pkl'\n",
    "with open(model_filename,'wb') as file:\n",
    "    pickle.dump(model,file)"
   ]
  },
  {
   "cell_type": "code",
   "execution_count": 50,
   "metadata": {},
   "outputs": [
    {
     "name": "stdout",
     "output_type": "stream",
     "text": [
      "0.504375 0.5185\n"
     ]
    }
   ],
   "source": [
    "model=LinearDiscriminantAnalysis()\n",
    "model.fit(x_train,y_train)\n",
    "score_train=model.score(x_train,y_train)\n",
    "score_test=model.score(x_test,y_test)\n",
    "print(score_train,score_test)\n",
    "model_filename='mindwave_model.pkl'\n",
    "with open(model_filename,'wb') as file:\n",
    "    pickle.dump(model,file)"
   ]
  },
  {
   "cell_type": "code",
   "execution_count": null,
   "metadata": {},
   "outputs": [],
   "source": []
  }
 ],
 "metadata": {
  "kernelspec": {
   "display_name": "Python 3",
   "language": "python",
   "name": "python3"
  },
  "language_info": {
   "codemirror_mode": {
    "name": "ipython",
    "version": 3
   },
   "file_extension": ".py",
   "mimetype": "text/x-python",
   "name": "python",
   "nbconvert_exporter": "python",
   "pygments_lexer": "ipython3",
   "version": "3.6.5"
  }
 },
 "nbformat": 4,
 "nbformat_minor": 2
}
