{
 "cells": [
  {
   "cell_type": "code",
   "execution_count": 2,
   "metadata": {},
   "outputs": [],
   "source": [
    "import numpy as np\n",
    "from scipy import signal\n",
    "from sklearn.multiclass import OneVsRestClassifier\n",
    "from sklearn.neighbors import KNeighborsClassifier\n",
    "from sklearn.ensemble import AdaBoostClassifier\n",
    "from sklearn.linear_model import SGDClassifier\n",
    "from sklearn.ensemble import GradientBoostingClassifier\n",
    "from sklearn.ensemble import VotingClassifier\n",
    "from sklearn.tree import DecisionTreeClassifier\n",
    "from sklearn.discriminant_analysis import LinearDiscriminantAnalysis\n",
    "from sklearn.svm import LinearSVC\n",
    "from sklearn.neural_network import MLPClassifier\n",
    "from sklearn.pipeline import Pipeline\n",
    "from sklearn.svm import SVC\n",
    "import matplotlib.pyplot as plt\n",
    "from sklearn.model_selection import ShuffleSplit, cross_val_score\n",
    "from sklearn.preprocessing import LabelBinarizer\n",
    "import csv\n",
    "import pickle\n",
    "import datetime\n",
    "from sklearn.preprocessing import MinMaxScaler\n",
    "from sklearn.utils import shuffle\n",
    "from sklearn.model_selection import train_test_split"
   ]
  },
  {
   "cell_type": "code",
   "execution_count": 300,
   "metadata": {},
   "outputs": [],
   "source": [
    "# set path to datasets\n",
    "datapath = '/home/jingyan/Documents/ME499-WinterProject/mindwave/src/motor_cortex_ml/data/'\n",
    "def load_record(exp,sec,run):\n",
    "    for secnum in sec:\n",
    "        for runnum in run: #6runs for each session\n",
    "            savetag='_exp'+str(exp)+'_sec'+str(secnum)+'_run'+str(runnum)\n",
    "            csvname =datapath + 'record'+savetag+'.csv'\n",
    "            data = np.loadtxt(csvname,delimiter = ',')\n",
    "            if runnum==run[0] and secnum==sec[0]:\n",
    "                x = data[:,:-1]\n",
    "                y = data[:,-1]\n",
    "            else:\n",
    "                x=np.append(x,data[:,:-1],axis=0)\n",
    "                y=np.append(y,data[:,-1],axis=0)\n",
    "    return x, y\n",
    "\n",
    "def fft(data, fs):\n",
    "    L = len(data)\n",
    "    freq = np.linspace(0.0, 1.0 / (2.0 * fs **-1), int(L / 2))\n",
    "    yi = np.fft.fft(data)#[1:]\n",
    "    y = yi[range(int(L / 2))]\n",
    "    # ysample= (2.0*abs(yi/L))[range(int(L/2))]\n",
    "    return freq, abs(y)\n",
    "def drop_class(data,labels,remove_list=[0]):\n",
    "    keep_list=np.isin(labels,remove_list,invert=True)\n",
    "    label_keep=labels[keep_list]\n",
    "    data_keep=data[keep_list]\n",
    "    return data_keep,label_keep\n",
    "def set_baseline_ref(data,labels,base_class=[0],use_baseline=False,ref_base=None):\n",
    "    base_list=np.isin(labels,base_class,invert=False)\n",
    "    if use_baseline==False:\n",
    "        baseline_ffts=data[base_list]\n",
    "        baseline_fft_ref=np.mean(baseline_ffts,axis=0)\n",
    "    else:\n",
    "        baseline_fft_ref=ref_base\n",
    "    data_keep,label_keep=drop_class(data,labels)\n",
    "    if data_keep.shape[1]!=baseline_fft_ref.shape[0]: ValueError('size mismatch')\n",
    "    data_ref=(data_keep-baseline_fft_ref)/baseline_fft_ref\n",
    "    return data_ref,label_keep,baseline_fft_ref    \n",
    "\n",
    "channel_num=8\n",
    "fs=250\n",
    "train_data,train_label=load_record(16,[1],[1,2,3])\n",
    "# test_data,test_label=load_record(16,[1],[])"
   ]
  },
  {
   "cell_type": "code",
   "execution_count": 301,
   "metadata": {},
   "outputs": [
    {
     "data": {
      "text/plain": [
       "(13500, 24)"
      ]
     },
     "execution_count": 301,
     "metadata": {},
     "output_type": "execute_result"
    }
   ],
   "source": []
  },
  {
   "cell_type": "code",
   "execution_count": 302,
   "metadata": {},
   "outputs": [],
   "source": [
    "train_data,train_label=shuffle(train_data,train_label)\n",
    "# train_data1,test_data,train_label1,test_label=train_test_split(train_data,train_label,test_size=0.50)\n",
    "train_data1,test_data=train_data[:4500],train_data[4500:]\n",
    "train_label1,test_label=train_label[:4500],train_label[4500:]"
   ]
  },
  {
   "cell_type": "code",
   "execution_count": 303,
   "metadata": {},
   "outputs": [
    {
     "data": {
      "text/plain": [
       "(9000,)"
      ]
     },
     "execution_count": 303,
     "metadata": {},
     "output_type": "execute_result"
    }
   ],
   "source": [
    "test_label.shape"
   ]
  },
  {
   "cell_type": "code",
   "execution_count": 304,
   "metadata": {},
   "outputs": [
    {
     "name": "stdout",
     "output_type": "stream",
     "text": [
      "((3009, 24), (5991,))\n"
     ]
    }
   ],
   "source": [
    "\n",
    "train_keep,label_keep,baseline_fft_ref=set_baseline_ref(train_data1,train_label1)\n",
    "test_keep,test_label_keep,baseline_fft_ref_test=set_baseline_ref(test_data,test_label)#,use_baseline=True,ref_base=baseline_fft_ref)\n",
    "# scaler=MinMaxScaler()\n",
    "# scaled_train_data=scaler.fit_transform(train_keep)\n",
    "# scaled_test_data=scaler.fit_transform(test_keep)\n",
    "\n",
    "\n",
    "np.savetxt(\"baseline_ref.csv\", baseline_fft_ref, delimiter=\",\")\n",
    "x_train,y_train,x_test,y_test=train_keep,label_keep,test_keep,test_label_keep\n",
    "# x_train,x_test,y_train,y_test=train_test_split(train_keep,label_keep,test_size=0.25)\n",
    "print(x_train.shape,y_test.shape)"
   ]
  },
  {
   "cell_type": "code",
   "execution_count": 305,
   "metadata": {},
   "outputs": [
    {
     "name": "stdout",
     "output_type": "stream",
     "text": [
      "(0.5882352941176471, 0.5738607911867801)\n"
     ]
    }
   ],
   "source": [
    "#Linear SVM classifier\n",
    "clf1 = LinearSVC(C = 0.1, intercept_scaling=1, loss='hinge', max_iter=1000,multi_class='ovr', penalty='l2', random_state=1, tol=0.00001)\n",
    "clf1.fit(x_train,y_train)\n",
    "score_train1=clf1.score(x_train,y_train)\n",
    "score_test1=clf1.score(x_test,y_test)\n",
    "print(score_train1,score_test1)"
   ]
  },
  {
   "cell_type": "code",
   "execution_count": 320,
   "metadata": {},
   "outputs": [
    {
     "name": "stdout",
     "output_type": "stream",
     "text": [
      "(0.8624127617148555, 0.7489567684860624)\n"
     ]
    }
   ],
   "source": [
    "model=KNeighborsClassifier(n_neighbors=4)\n",
    "model.fit(x_train,y_train)\n",
    "score_train=model.score(x_train,y_train)\n",
    "score_test=model.score(x_test,y_test)\n",
    "print(score_train,score_test)\n",
    "model_filename='mindwave_model.pkl'\n",
    "with open(model_filename,'wb') as file:\n",
    "    pickle.dump(model,file)"
   ]
  },
  {
   "cell_type": "code",
   "execution_count": 307,
   "metadata": {},
   "outputs": [
    {
     "name": "stdout",
     "output_type": "stream",
     "text": [
      "(0.807909604519774, 0.6633283258220665)\n"
     ]
    }
   ],
   "source": [
    "model=GradientBoostingClassifier()\n",
    "model.fit(x_train,y_train)\n",
    "score_train=model.score(x_train,y_train)\n",
    "score_test=model.score(x_test,y_test)\n",
    "print(score_train,score_test)\n",
    "model_filename='mindwave_model.pkl'\n",
    "with open(model_filename,'wb') as file:\n",
    "    pickle.dump(model,file)"
   ]
  },
  {
   "cell_type": "code",
   "execution_count": 284,
   "metadata": {},
   "outputs": [
    {
     "name": "stdout",
     "output_type": "stream",
     "text": [
      "(0.7417417417417418, 0.6553446553446554)\n"
     ]
    }
   ],
   "source": [
    "model=AdaBoostClassifier(n_estimators=100)#OneVsRestClassifier(SVC(kernel='linear'))\n",
    "model.fit(x_train,y_train)\n",
    "score_train=model.score(x_train,y_train)\n",
    "score_test=model.score(x_test,y_test)\n",
    "print(score_train,score_test)\n",
    "# model_filename='mindwave_model.pkl'\n",
    "# with open(model_filename,'wb') as file:\n",
    "#     pickle.dump(model,file)"
   ]
  },
  {
   "cell_type": "code",
   "execution_count": 273,
   "metadata": {},
   "outputs": [
    {
     "name": "stdout",
     "output_type": "stream",
     "text": [
      "(1.0, 0.6664440734557596)\n"
     ]
    }
   ],
   "source": [
    "model=DecisionTreeClassifier()\n",
    "model.fit(x_train,y_train)\n",
    "score_train=model.score(x_train,y_train)\n",
    "score_test=model.score(x_test,y_test)\n",
    "print(score_train,score_test)\n",
    "model_filename='mindwave_model.pkl'\n",
    "with open(model_filename,'wb') as file:\n",
    "    pickle.dump(model,file,protocol=2)"
   ]
  },
  {
   "cell_type": "code",
   "execution_count": 274,
   "metadata": {},
   "outputs": [
    {
     "name": "stdout",
     "output_type": "stream",
     "text": [
      "(0.5973377703826955, 0.593322203672788)\n"
     ]
    }
   ],
   "source": [
    "model=LinearDiscriminantAnalysis()\n",
    "model.fit(x_train,y_train)\n",
    "score_train=model.score(x_train,y_train)\n",
    "score_test=model.score(x_test,y_test)\n",
    "print(score_train,score_test)\n",
    "# model_filename='mindwave_model.pkl'\n",
    "# with open(model_filename,'wb') as file:\n",
    "#     pickle.dump(model,file)"
   ]
  },
  {
   "cell_type": "code",
   "execution_count": 275,
   "metadata": {},
   "outputs": [
    {
     "name": "stdout",
     "output_type": "stream",
     "text": [
      "(0.7078202995008319, 0.6767946577629382)\n"
     ]
    }
   ],
   "source": [
    "model2 = SVC(20,'rbf', degree=10, gamma='auto', coef0=0.0, tol=0.001, cache_size=10000, max_iter=-1, decision_function_shape='ovr')\n",
    "model2.fit(x_train,y_train)\n",
    "score_train2=model2.score(x_train,y_train)\n",
    "score_test2=model2.score(x_test,y_test)\n",
    "print(score_train2,score_test2)"
   ]
  }
 ],
 "metadata": {
  "kernelspec": {
   "display_name": "Python 2",
   "language": "python",
   "name": "python2"
  },
  "language_info": {
   "codemirror_mode": {
    "name": "ipython",
    "version": 2
   },
   "file_extension": ".py",
   "mimetype": "text/x-python",
   "name": "python",
   "nbconvert_exporter": "python",
   "pygments_lexer": "ipython2",
   "version": "2.7.15rc1"
  }
 },
 "nbformat": 4,
 "nbformat_minor": 2
}
