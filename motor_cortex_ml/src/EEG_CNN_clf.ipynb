{
 "cells": [
  {
   "cell_type": "code",
   "execution_count": 1,
   "metadata": {},
   "outputs": [],
   "source": [
    "import numpy as np\n",
    "from scipy import signal\n",
    "from sklearn.multiclass import OneVsRestClassifier\n",
    "from sklearn.neighbors import KNeighborsClassifier\n",
    "from sklearn.ensemble import AdaBoostClassifier\n",
    "from sklearn.linear_model import SGDClassifier\n",
    "from sklearn.ensemble import GradientBoostingClassifier\n",
    "from sklearn.ensemble import VotingClassifier\n",
    "from sklearn.tree import DecisionTreeClassifier\n",
    "from sklearn.discriminant_analysis import LinearDiscriminantAnalysis\n",
    "from sklearn.svm import LinearSVC\n",
    "from sklearn.neural_network import MLPClassifier\n",
    "from sklearn.pipeline import Pipeline\n",
    "from sklearn.svm import SVC\n",
    "import matplotlib.pyplot as plt\n",
    "from sklearn.model_selection import ShuffleSplit, cross_val_score\n",
    "import csv\n",
    "import pickle\n",
    "import datetime"
   ]
  },
  {
   "cell_type": "code",
   "execution_count": 3,
   "metadata": {},
   "outputs": [],
   "source": [
    "# set path to datasets\n",
    "savetag='_exp2'\n",
    "\n",
    "datapath = '/home/jingyan/Documents/ME499-WinterProject/mindwave/src/motor_cortex_ml/data/'\n",
    "csvname =datapath + 'record'+savetag+'.csv'\n",
    "# csvname =datapath +'record_20rfft.csv'\n",
    "data = np.loadtxt(csvname,delimiter = ',')\n",
    "savedsp=datapath+'dsp'+savetag+'.csv'\n",
    "# get input/output pairs\n",
    "x = data[:,:-1]\n",
    "y = data[:,-1]\n",
    "channel_num=8\n",
    "chunk=20 #matches self.recordsize in mindwave_record.py\n",
    "fs=250\n",
    "band=(7,13)\n",
    "\n",
    "def bandpass(start,stop,data,fs):\n",
    "    bp_Hz = np.array([start, stop])\n",
    "    b, a = signal.butter(5, bp_Hz / (fs / 2.0), btype='bandpass')\n",
    "    return signal.lfilter(b, a, data, axis=0)"
   ]
  },
  {
   "cell_type": "code",
   "execution_count": 5,
   "metadata": {},
   "outputs": [
    {
     "data": {
      "text/plain": [
       "(100000, 8)"
      ]
     },
     "execution_count": 5,
     "metadata": {},
     "output_type": "execute_result"
    }
   ],
   "source": [
    "for k in range(channel_num):\n",
    "    locals()[\"channel\"+str(k+1)]=x[:,k]\n",
    "#Divide datas to chunks, each chunk coorespond to specific channel with specific y value.\n",
    "#Total chunk number = channel_num * record_size(chunk) *4\n",
    "_total_chunk=channel_num*chunk*4\n",
    "for i in np.unique(y):\n",
    "    i=int(i)\n",
    "    locals()['ind_'+str(i+1)]=np.where(y==i)[0] ##left=-1,(ind0) ; right=1,(ind2); focus=0,(ind1);\n",
    "   \n",
    "    locals()['ind'+str(i+1)]=[locals()['ind_'+str(int(i+1))][0]]\n",
    "    for j in range(len(locals()['ind_'+str(i+1)])-1):  \n",
    "        if (locals()['ind_'+str(i+1)])[j]+1!=(locals()['ind_'+str(i+1)])[j+1]:\n",
    "            locals()['ind'+str(i+1)].append((locals()['ind_'+str(i+1)])[j])\n",
    "        if j>1 and (locals()['ind_'+str(i+1)])[j]-1!=(locals()['ind_'+str(i+1)])[j-1]:\n",
    "            (locals()['ind'+str(i+1)]).append((locals()['ind_'+str(i+1)])[j])\n",
    "    (locals()['ind'+str(i+1)]).append((locals()['ind_'+str(i+1)])[-1])\n",
    "    if i!=0 and 2*chunk!=len((locals()['ind'+str(i+1)])):\n",
    "        print(\"error: chunk size and interval limit does not match. flag number:\",i)\n",
    "    elif i==0 and 4*chunk!=len((locals()['ind'+str(i+1)])):\n",
    "        print(\"error: chunk size and interval limit does not match. flag number: \",i)\n",
    "    for k in range(channel_num):\n",
    "        for g in range(int((len((locals()['ind'+str(i+1)])))/2)):\n",
    "            locals()['channel'+str(k+1)+'_'+str(i+1)+'_chunk'+str(g+1)]=locals()['channel'+str(k+1)][(locals()['ind'+str(i+1)])[2*g]:(locals()['ind'+str(i+1)])[2*g+1]+1]\n",
    "        "
   ]
  },
  {
   "cell_type": "code",
   "execution_count": null,
   "metadata": {},
   "outputs": [],
   "source": []
  }
 ],
 "metadata": {
  "kernelspec": {
   "display_name": "Python 3",
   "language": "python",
   "name": "python3"
  },
  "language_info": {
   "codemirror_mode": {
    "name": "ipython",
    "version": 3
   },
   "file_extension": ".py",
   "mimetype": "text/x-python",
   "name": "python",
   "nbconvert_exporter": "python",
   "pygments_lexer": "ipython3",
   "version": "3.6.5"
  }
 },
 "nbformat": 4,
 "nbformat_minor": 2
}
