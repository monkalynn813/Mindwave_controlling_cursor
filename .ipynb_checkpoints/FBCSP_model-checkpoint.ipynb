{
 "cells": [
  {
   "cell_type": "code",
   "execution_count": 1,
   "metadata": {},
   "outputs": [],
   "source": [
    "import numpy as np\n",
    "import time, sys \n",
    "from scipy.sparse import coo_matrix\n",
    "from sklearn.utils import shuffle\n",
    "from sklearn.svm import LinearSVC,SVC\n",
    "from sklearn.model_selection import KFold\n",
    "from scipy import signal\n",
    "# import self defined functions \n",
    "from riemannian_multiscale import riemannian_multiscale\n",
    "from filters import load_filterbank \n",
    "from get_data import get_data\n",
    "from sklearn.preprocessing import LabelBinarizer\n",
    "from csp import generate_projection,generate_eye,extract_feature\n",
    "from sklearn.discriminant_analysis import LinearDiscriminantAnalysis\n",
    "from sklearn.model_selection import train_test_split\n"
   ]
  },
  {
   "cell_type": "code",
   "execution_count": 38,
   "metadata": {},
   "outputs": [],
   "source": [
    "def bandpass(start,stop,data,fs):\n",
    "    bp_Hz = np.array([start, stop])\n",
    "    b, a = signal.butter(5, bp_Hz / (fs / 2.0), btype='bandpass')\n",
    "    return signal.lfilter(b, a, data, axis=0)\n",
    "\n",
    "def notch(val, data, fs):\n",
    "    bp_stop_Hz = val + 3.0 * np.array([-1, 1])\n",
    "    b, a = signal.butter(3, bp_stop_Hz / (fs / 2.0), 'bandstop')\n",
    "    return signal.lfilter(b, a, data)\n",
    "\n",
    "def data_preposcessing(x,y,chunk,fs,band,nothval,samplesize,channel_num=8):\n",
    "    #Divide datas to chunks, each chunk coorespond to specific channel with specific label.\n",
    "    #Total chunk number = channel_num * record_size(chunk) *3\n",
    "    _total_chunk=channel_num*chunk*3\n",
    "\n",
    "    for k in range(channel_num):\n",
    "        locals()[\"channel\"+str(k+1)]=x[:,k]\n",
    "\n",
    "    eventsplit=[]\n",
    "    for u in range(int(chunk*3)):\n",
    "        event_locator=u*samplesize\n",
    "        eventsplit.append(int(event_locator))\n",
    "\n",
    "    for i in np.unique(y):\n",
    "        i=int(i)\n",
    "        locals()['ind'+str(i+1)]=[]\n",
    "    for split in eventsplit:\n",
    "        label_finder=int(y[split])\n",
    "        locals()['ind'+str(label_finder+1)].append([split,int(split+samplesize-1)])\n",
    "    for i in np.unique(y):\n",
    "        i=int(i)\n",
    "    #     locals()['ind_'+str(i+1)]=np.where(y==i)[0] ##left=-1,(ind0) ; right=1,(ind2); focus=0,(ind1);\n",
    "\n",
    "    #     locals()['ind'+str(i+1)]=[locals()['ind_'+str(int(i+1))][0]]  \n",
    "    #     for j in range(len(locals()['ind_'+str(i+1)])-1):  \n",
    "    #         if (locals()['ind_'+str(i+1)])[j]+1!=(locals()['ind_'+str(i+1)])[j+1]:\n",
    "    #             locals()['ind'+str(i+1)].append((locals()['ind_'+str(i+1)])[j])\n",
    "    #         if j>1 and (locals()['ind_'+str(i+1)])[j]-1!=(locals()['ind_'+str(i+1)])[j-1]:\n",
    "    #             (locals()['ind'+str(i+1)]).append((locals()['ind_'+str(i+1)])[j])\n",
    "    #     (locals()['ind'+str(i+1)]).append((locals()['ind_'+str(i+1)])[-1])   #find boundry of events\n",
    "\n",
    "        if chunk!=len((locals()['ind'+str(i+1)])):\n",
    "            print(\"error: chunk size and interval limit does not match. flag number:\",i)\n",
    "        for k in range(channel_num):\n",
    "            for g in range(int(len((locals()['ind'+str(i+1)])))):\n",
    "                locals()['channel'+str(k+1)+'_'+str(i+1)+'_chunk'+str(g+1)]=locals()['channel'+str(k+1)][(locals()['ind'+str(i+1)])[g][0]:(locals()['ind'+str(i+1)])[g][1]+1]\n",
    "\n",
    "    total_chunks=0\n",
    "    #apply bp and notch filter\n",
    "    #variable_channel#_label#_chunk#\n",
    "\n",
    "    for i in np.unique(y):\n",
    "        i=int(i)\n",
    "        for k in range(channel_num):\n",
    "            for g in range(int(len((locals()['ind'+str(i+1)])))):\n",
    "                data=locals()['channel'+str(k+1)+'_'+str(i+1)+'_chunk'+str(g+1)]\n",
    "                bp_filtered=bandpass(band[0],band[1],data,fs) #apply band pass filter\n",
    "                channel_filtered=notch(notchval,bp_filtered,fs)\n",
    "                locals()['bp_filtered'+str(k+1)+'_'+str(i+1)+'_'+str(g+1)]=channel_filtered\n",
    "                total_chunks+=1\n",
    "    if total_chunks != _total_chunk: print('error: total chunks number does not match with the data acqusition')\n",
    "    ##################CNN input matrix generation#################################\n",
    "    labels=[]\n",
    "    for i in np.unique(y): \n",
    "        i=int(i)\n",
    "        for g in range(int(len((locals()['ind'+str(i+1)])))):\n",
    "            for k in range(channel_num):\n",
    "                data=locals()['channel'+str(k+1)+'_'+str(i+1)+'_chunk'+str(g+1)]\n",
    "                if k==0:\n",
    "                    CNNmatrices_mergechn=[data]\n",
    "                else:\n",
    "                    CNNmatrices_mergechn=np.append(CNNmatrices_mergechn,[data],axis=0)\n",
    "            if g==0 and i==-1: CNNmatrices=CNNmatrices_mergechn.reshape(1,CNNmatrices_mergechn.shape[0],CNNmatrices_mergechn.shape[1])\n",
    "            else: CNNmatrices=np.append(CNNmatrices,CNNmatrices_mergechn.reshape(1,CNNmatrices_mergechn.shape[0],CNNmatrices_mergechn.shape[1]),axis=0)\n",
    "            labels=np.append(labels,[i])\n",
    "    #     _shape=CNNmatrices.shape\n",
    "    #     CNN_input=CNNmatrices.reshape(_shape[0],1,_shape[1],_shape[2])\n",
    "    lb = LabelBinarizer()\n",
    "    label_enc=lb.fit_transform(labels)\n",
    "    return CNNmatrices,labels"
   ]
  },
  {
   "cell_type": "code",
   "execution_count": 52,
   "metadata": {},
   "outputs": [],
   "source": [
    "# set path to datasets\n",
    "datapath = '/home/jingyan/Documents/ME499-WinterProject/mindwave/src/motor_cortex_ml/data/'\n",
    "for run in range(1,7): #6runs for each session\n",
    "    savetag='_exp10_sec1_run'+str(run)\n",
    "    csvname =datapath + 'record'+savetag+'.csv'\n",
    "    data = np.loadtxt(csvname,delimiter = ',')\n",
    "    if run==1:\n",
    "        x = data[:,:-1]\n",
    "        y = data[:,-1]\n",
    "    else:\n",
    "        x=np.append(x,data[:,:-1],axis=0)\n",
    "        y=np.append(y,data[:,-1],axis=0)\n",
    "channel_num=8\n",
    "chunk=60\n",
    "fs=250\n",
    "band=(0.5,100)\n",
    "notchval=60\n",
    "samplesize=7.5*250\n",
    "\n",
    "train_data,train_labels=data_preposcessing(x,y,chunk,fs,band,notchval,samplesize)"
   ]
  },
  {
   "cell_type": "code",
   "execution_count": 40,
   "metadata": {},
   "outputs": [],
   "source": [
    "#keep two classes, left and right\n",
    "remove_list=[0]\n",
    "drop_list=np.isin(train_labels,remove_list,invert=True)\n",
    "drop_array=np.array(drop_list)\n",
    "label_keep=train_labels[drop_array]\n",
    "train_keep=train_data[drop_array]\n",
    "# drop_list2=np.isin(eval_label,remove_list,invert=True)\n",
    "# drop_array2=np.array(drop_list2)\n",
    "# eval_keep=eval_sample[drop_array2]\n",
    "# eval_label_keep=eval_label[drop_array2]"
   ]
  },
  {
   "cell_type": "markdown",
   "metadata": {},
   "source": [
    "# Riemann Approach"
   ]
  },
  {
   "cell_type": "code",
   "execution_count": 64,
   "metadata": {},
   "outputs": [],
   "source": [
    "bw=np.array([2,4,8,16,32])\n",
    "forder=2\n",
    "filter_bank=load_filterbank(bw,fs,order=forder,max_freq=40)\n",
    "time_windows_flt = np.array([[2.5,4.5],\n",
    "                            [4,6],\n",
    "                            [2.5,6],\n",
    "                            [2.5,3.5],\n",
    "                            [3,4],\n",
    "                            [4,5]])*fs\n",
    "time_windows=time_windows_flt.astype(int)\n",
    "# time_windows=time_windows[2:3]\n",
    "rho=0.1"
   ]
  },
  {
   "cell_type": "code",
   "execution_count": 65,
   "metadata": {},
   "outputs": [
    {
     "name": "stdout",
     "output_type": "stream",
     "text": [
      "(135, 9288) (135,)\n"
     ]
    }
   ],
   "source": [
    "riemann=riemannian_multiscale(filter_bank,time_windows,riem_opt='Riemann',rho=rho,vectorized=True)\n",
    "train_feat=riemann.fit(train_data) \n",
    "\n",
    "###chose eval dataset\n",
    "# test_feat=riemann.features(eval_data)\n",
    "x_train,x_test,y_train,y_test=train_test_split(train_feat,train_labels,test_size=0.25)\n",
    "print(x_train.shape,y_train.shape)"
   ]
  },
  {
   "cell_type": "code",
   "execution_count": 66,
   "metadata": {},
   "outputs": [
    {
     "name": "stdout",
     "output_type": "stream",
     "text": [
      "1.0 0.7777777777777778\n"
     ]
    },
    {
     "name": "stderr",
     "output_type": "stream",
     "text": [
      "/home/jingyan/.local/lib/python3.6/site-packages/sklearn/svm/base.py:931: ConvergenceWarning: Liblinear failed to converge, increase the number of iterations.\n",
      "  \"the number of iterations.\", ConvergenceWarning)\n"
     ]
    }
   ],
   "source": [
    "#Linear SVM classifier\n",
    "clf1 = LinearSVC(C = 0.1, intercept_scaling=1, loss='hinge', max_iter=1000,multi_class='ovr', penalty='l2', random_state=1, tol=0.00001)\n",
    "clf1.fit(x_train,y_train)\n",
    "score_train1=clf1.score(x_train,y_train)\n",
    "score_test1=clf1.score(x_test,y_test)\n",
    "print(score_train1,score_test1)"
   ]
  },
  {
   "cell_type": "code",
   "execution_count": 67,
   "metadata": {},
   "outputs": [
    {
     "name": "stdout",
     "output_type": "stream",
     "text": [
      "1.0 0.6444444444444445\n"
     ]
    }
   ],
   "source": [
    "#rbf SVM classifier\n",
    "clf2 = SVC(20,'rbf', degree=10, gamma='auto', coef0=0.0, tol=0.001, cache_size=10000, max_iter=-1, decision_function_shape='ovr')\n",
    "clf2.fit(x_train,y_train)\n",
    "score_train2=clf2.score(x_train,y_train)\n",
    "score_test2=clf2.score(x_test,y_test)\n",
    "print(score_train2,score_test2)"
   ]
  },
  {
   "cell_type": "code",
   "execution_count": 68,
   "metadata": {},
   "outputs": [
    {
     "name": "stdout",
     "output_type": "stream",
     "text": [
      "0.7703703703703704 0.6666666666666666\n"
     ]
    },
    {
     "name": "stderr",
     "output_type": "stream",
     "text": [
      "/home/jingyan/.local/lib/python3.6/site-packages/sklearn/discriminant_analysis.py:388: UserWarning: Variables are collinear.\n",
      "  warnings.warn(\"Variables are collinear.\")\n"
     ]
    }
   ],
   "source": [
    "# LDA classifier\n",
    "clf3=LinearDiscriminantAnalysis()\n",
    "clf3.fit(x_train,y_train)\n",
    "score_train3=clf3.score(x_train,y_train)\n",
    "score_test3=clf3.score(x_test,y_test)\n",
    "print(score_train3,score_test3)"
   ]
  },
  {
   "cell_type": "markdown",
   "metadata": {},
   "source": [
    "# CSP Approach"
   ]
  },
  {
   "cell_type": "code",
   "execution_count": 75,
   "metadata": {},
   "outputs": [],
   "source": [
    "bw=np.array([2,4,8,16,32])\n",
    "forder=2\n",
    "filter_bank=load_filterbank(bw,fs,order=forder,max_freq=40)\n",
    "time_windows_flt = np.array([\n",
    "                            [2.5,3.5],\n",
    "                            [3,4],\n",
    "                            [3.5,4.5],\n",
    "                            [4,5],\n",
    "                            [4.5,5.5],\n",
    "                            [5,6],\n",
    "                            [2.5,4.5],\n",
    "                            [3,5],\n",
    "                            [3.5,5.5],\n",
    "                            [4,6],\n",
    "                            [2.5,6]])*fs\n",
    "time_windows = time_windows_flt.astype(int)\n",
    "NO_csp=24\n"
   ]
  },
  {
   "cell_type": "code",
   "execution_count": 77,
   "metadata": {},
   "outputs": [
    {
     "name": "stderr",
     "output_type": "stream",
     "text": [
      "/home/jingyan/.local/lib/python3.6/site-packages/numpy/lib/function_base.py:392: RuntimeWarning: Mean of empty slice.\n",
      "  avg = a.mean(axis)\n",
      "/home/jingyan/.local/lib/python3.6/site-packages/numpy/core/_methods.py:78: RuntimeWarning: invalid value encountered in true_divide\n",
      "  ret, rcount, out=ret, casting='unsafe', subok=False)\n"
     ]
    },
    {
     "ename": "ValueError",
     "evalue": "array must not contain infs or NaNs",
     "output_type": "error",
     "traceback": [
      "\u001b[0;31m---------------------------------------------------------------------------\u001b[0m",
      "\u001b[0;31mValueError\u001b[0m                                Traceback (most recent call last)",
      "\u001b[0;32m<ipython-input-77-6f544a06678d>\u001b[0m in \u001b[0;36m<module>\u001b[0;34m()\u001b[0m\n\u001b[0;32m----> 1\u001b[0;31m \u001b[0mw\u001b[0m \u001b[0;34m=\u001b[0m \u001b[0mgenerate_projection\u001b[0m\u001b[0;34m(\u001b[0m\u001b[0mtrain_data\u001b[0m\u001b[0;34m,\u001b[0m\u001b[0mtrain_labels\u001b[0m\u001b[0;34m,\u001b[0m\u001b[0mNO_csp\u001b[0m\u001b[0;34m,\u001b[0m\u001b[0mfilter_bank\u001b[0m\u001b[0;34m,\u001b[0m\u001b[0mtime_windows\u001b[0m\u001b[0;34m)\u001b[0m\u001b[0;34m\u001b[0m\u001b[0m\n\u001b[0m\u001b[1;32m      2\u001b[0m \u001b[0;31m# feature_mat = extract_feature(train_data,w,filter_bank,time_windows)\u001b[0m\u001b[0;34m\u001b[0m\u001b[0;34m\u001b[0m\u001b[0m\n",
      "\u001b[0;32m~/Documents/ME499-WinterProject/IV-2a/csp.py\u001b[0m in \u001b[0;36mgenerate_projection\u001b[0;34m(data, class_vec, NO_csp, filter_bank, time_windows, NO_classes)\u001b[0m\n\u001b[1;32m     85\u001b[0m                         \u001b[0;32mfor\u001b[0m \u001b[0mclas\u001b[0m \u001b[0;32min\u001b[0m \u001b[0mrange\u001b[0m\u001b[0;34m(\u001b[0m\u001b[0;36m0\u001b[0m\u001b[0;34m,\u001b[0m\u001b[0mNO_classes\u001b[0m\u001b[0;34m)\u001b[0m\u001b[0;34m:\u001b[0m\u001b[0;34m\u001b[0m\u001b[0m\n\u001b[1;32m     86\u001b[0m                                 \u001b[0mcov_avg\u001b[0m\u001b[0;34m[\u001b[0m\u001b[0mclas\u001b[0m\u001b[0;34m,\u001b[0m\u001b[0;34m:\u001b[0m\u001b[0;34m,\u001b[0m\u001b[0;34m:\u001b[0m\u001b[0;34m]\u001b[0m \u001b[0;34m=\u001b[0m \u001b[0mrie_mean\u001b[0m\u001b[0;34m.\u001b[0m\u001b[0mmean_covariance\u001b[0m\u001b[0;34m(\u001b[0m\u001b[0mcov\u001b[0m\u001b[0;34m[\u001b[0m\u001b[0mclas\u001b[0m\u001b[0;34m,\u001b[0m\u001b[0;34m:\u001b[0m\u001b[0mcov_cntr\u001b[0m\u001b[0;34m[\u001b[0m\u001b[0mclas\u001b[0m\u001b[0;34m]\u001b[0m\u001b[0;34m,\u001b[0m\u001b[0;34m:\u001b[0m\u001b[0;34m,\u001b[0m\u001b[0;34m:\u001b[0m\u001b[0;34m]\u001b[0m\u001b[0;34m,\u001b[0m \u001b[0mmetric\u001b[0m \u001b[0;34m=\u001b[0m \u001b[0;34m'euclid'\u001b[0m\u001b[0;34m)\u001b[0m\u001b[0;34m\u001b[0m\u001b[0m\n\u001b[0;32m---> 87\u001b[0;31m                         \u001b[0mw\u001b[0m\u001b[0;34m[\u001b[0m\u001b[0mt_wind\u001b[0m\u001b[0;34m,\u001b[0m\u001b[0msubband\u001b[0m\u001b[0;34m,\u001b[0m\u001b[0;34m:\u001b[0m\u001b[0;34m,\u001b[0m\u001b[0;34m:\u001b[0m\u001b[0;34m]\u001b[0m \u001b[0;34m=\u001b[0m \u001b[0mcsp_one_one\u001b[0m\u001b[0;34m(\u001b[0m\u001b[0mcov_avg\u001b[0m\u001b[0;34m,\u001b[0m\u001b[0mNO_csp\u001b[0m\u001b[0;34m,\u001b[0m\u001b[0mNO_classes\u001b[0m\u001b[0;34m)\u001b[0m\u001b[0;34m\u001b[0m\u001b[0m\n\u001b[0m\u001b[1;32m     88\u001b[0m         \u001b[0;32mreturn\u001b[0m \u001b[0mw\u001b[0m\u001b[0;34m\u001b[0m\u001b[0m\n\u001b[1;32m     89\u001b[0m \u001b[0;34m\u001b[0m\u001b[0m\n",
      "\u001b[0;32m~/Documents/ME499-WinterProject/IV-2a/csp.py\u001b[0m in \u001b[0;36mcsp_one_one\u001b[0;34m(cov_matrix, NO_csp, NO_classes)\u001b[0m\n\u001b[1;32m     32\u001b[0m         \u001b[0;32mfor\u001b[0m \u001b[0mcc1\u001b[0m \u001b[0;32min\u001b[0m \u001b[0mrange\u001b[0m\u001b[0;34m(\u001b[0m\u001b[0;36m0\u001b[0m\u001b[0;34m,\u001b[0m\u001b[0mNO_classes\u001b[0m\u001b[0;34m)\u001b[0m\u001b[0;34m:\u001b[0m\u001b[0;34m\u001b[0m\u001b[0m\n\u001b[1;32m     33\u001b[0m                 \u001b[0;32mfor\u001b[0m \u001b[0mcc2\u001b[0m \u001b[0;32min\u001b[0m \u001b[0mrange\u001b[0m\u001b[0;34m(\u001b[0m\u001b[0mcc1\u001b[0m\u001b[0;34m+\u001b[0m\u001b[0;36m1\u001b[0m\u001b[0;34m,\u001b[0m\u001b[0mNO_classes\u001b[0m\u001b[0;34m)\u001b[0m\u001b[0;34m:\u001b[0m\u001b[0;34m\u001b[0m\u001b[0m\n\u001b[0;32m---> 34\u001b[0;31m                         \u001b[0mw\u001b[0m\u001b[0;34m[\u001b[0m\u001b[0;34m:\u001b[0m\u001b[0;34m,\u001b[0m\u001b[0mNO_filtpairs\u001b[0m\u001b[0;34m*\u001b[0m\u001b[0;36m2\u001b[0m\u001b[0;34m*\u001b[0m\u001b[0;34m(\u001b[0m\u001b[0mkk\u001b[0m\u001b[0;34m)\u001b[0m\u001b[0;34m:\u001b[0m\u001b[0mNO_filtpairs\u001b[0m\u001b[0;34m*\u001b[0m\u001b[0;36m2\u001b[0m\u001b[0;34m*\u001b[0m\u001b[0;34m(\u001b[0m\u001b[0mkk\u001b[0m\u001b[0;34m+\u001b[0m\u001b[0;36m1\u001b[0m\u001b[0;34m)\u001b[0m\u001b[0;34m]\u001b[0m \u001b[0;34m=\u001b[0m \u001b[0mgevd\u001b[0m\u001b[0;34m(\u001b[0m\u001b[0mcov_matrix\u001b[0m\u001b[0;34m[\u001b[0m\u001b[0mcc1\u001b[0m\u001b[0;34m]\u001b[0m\u001b[0;34m,\u001b[0m \u001b[0mcov_matrix\u001b[0m\u001b[0;34m[\u001b[0m\u001b[0mcc2\u001b[0m\u001b[0;34m]\u001b[0m\u001b[0;34m,\u001b[0m\u001b[0mNO_filtpairs\u001b[0m\u001b[0;34m)\u001b[0m\u001b[0;34m\u001b[0m\u001b[0m\n\u001b[0m\u001b[1;32m     35\u001b[0m                         \u001b[0mkk\u001b[0m \u001b[0;34m+=\u001b[0m\u001b[0;36m1\u001b[0m\u001b[0;34m\u001b[0m\u001b[0m\n\u001b[1;32m     36\u001b[0m         \u001b[0;32mreturn\u001b[0m \u001b[0mw\u001b[0m\u001b[0;34m\u001b[0m\u001b[0m\n",
      "\u001b[0;32m~/Documents/ME499-WinterProject/IV-2a/eig.py\u001b[0m in \u001b[0;36mgevd\u001b[0;34m(x1, x2, no_pairs)\u001b[0m\n\u001b[1;32m     18\u001b[0m         \u001b[0mReturn\u001b[0m\u001b[0;34m:\u001b[0m \u001b[0mnumpy\u001b[0m \u001b[0marray\u001b[0m \u001b[0mof\u001b[0m \u001b[0;36m2\u001b[0m\u001b[0;34m*\u001b[0m\u001b[0mNo_pairs\u001b[0m \u001b[0meigenvectors\u001b[0m\u001b[0;34m\u001b[0m\u001b[0m\n\u001b[1;32m     19\u001b[0m \t'''\n\u001b[0;32m---> 20\u001b[0;31m         \u001b[0mev\u001b[0m\u001b[0;34m,\u001b[0m\u001b[0mvr\u001b[0m\u001b[0;34m=\u001b[0m \u001b[0mlinalg\u001b[0m\u001b[0;34m.\u001b[0m\u001b[0meig\u001b[0m\u001b[0;34m(\u001b[0m\u001b[0mx1\u001b[0m\u001b[0;34m,\u001b[0m\u001b[0mx2\u001b[0m\u001b[0;34m,\u001b[0m\u001b[0mright\u001b[0m\u001b[0;34m=\u001b[0m\u001b[0;32mTrue\u001b[0m\u001b[0;34m)\u001b[0m\u001b[0;34m\u001b[0m\u001b[0m\n\u001b[0m\u001b[1;32m     21\u001b[0m         \u001b[0mevAbs\u001b[0m \u001b[0;34m=\u001b[0m \u001b[0mnp\u001b[0m\u001b[0;34m.\u001b[0m\u001b[0mabs\u001b[0m\u001b[0;34m(\u001b[0m\u001b[0mev\u001b[0m\u001b[0;34m)\u001b[0m\u001b[0;34m\u001b[0m\u001b[0m\n\u001b[1;32m     22\u001b[0m         \u001b[0msort_indices\u001b[0m \u001b[0;34m=\u001b[0m \u001b[0mnp\u001b[0m\u001b[0;34m.\u001b[0m\u001b[0margsort\u001b[0m\u001b[0;34m(\u001b[0m\u001b[0mevAbs\u001b[0m\u001b[0;34m)\u001b[0m\u001b[0;34m\u001b[0m\u001b[0m\n",
      "\u001b[0;32m~/.local/lib/python3.6/site-packages/scipy/linalg/decomp.py\u001b[0m in \u001b[0;36meig\u001b[0;34m(a, b, left, right, overwrite_a, overwrite_b, check_finite, homogeneous_eigvals)\u001b[0m\n\u001b[1;32m    217\u001b[0m     \u001b[0moverwrite_a\u001b[0m \u001b[0;34m=\u001b[0m \u001b[0moverwrite_a\u001b[0m \u001b[0;32mor\u001b[0m \u001b[0;34m(\u001b[0m\u001b[0m_datacopied\u001b[0m\u001b[0;34m(\u001b[0m\u001b[0ma1\u001b[0m\u001b[0;34m,\u001b[0m \u001b[0ma\u001b[0m\u001b[0;34m)\u001b[0m\u001b[0;34m)\u001b[0m\u001b[0;34m\u001b[0m\u001b[0m\n\u001b[1;32m    218\u001b[0m     \u001b[0;32mif\u001b[0m \u001b[0mb\u001b[0m \u001b[0;32mis\u001b[0m \u001b[0;32mnot\u001b[0m \u001b[0;32mNone\u001b[0m\u001b[0;34m:\u001b[0m\u001b[0;34m\u001b[0m\u001b[0m\n\u001b[0;32m--> 219\u001b[0;31m         \u001b[0mb1\u001b[0m \u001b[0;34m=\u001b[0m \u001b[0m_asarray_validated\u001b[0m\u001b[0;34m(\u001b[0m\u001b[0mb\u001b[0m\u001b[0;34m,\u001b[0m \u001b[0mcheck_finite\u001b[0m\u001b[0;34m=\u001b[0m\u001b[0mcheck_finite\u001b[0m\u001b[0;34m)\u001b[0m\u001b[0;34m\u001b[0m\u001b[0m\n\u001b[0m\u001b[1;32m    220\u001b[0m         \u001b[0moverwrite_b\u001b[0m \u001b[0;34m=\u001b[0m \u001b[0moverwrite_b\u001b[0m \u001b[0;32mor\u001b[0m \u001b[0m_datacopied\u001b[0m\u001b[0;34m(\u001b[0m\u001b[0mb1\u001b[0m\u001b[0;34m,\u001b[0m \u001b[0mb\u001b[0m\u001b[0;34m)\u001b[0m\u001b[0;34m\u001b[0m\u001b[0m\n\u001b[1;32m    221\u001b[0m         \u001b[0;32mif\u001b[0m \u001b[0mlen\u001b[0m\u001b[0;34m(\u001b[0m\u001b[0mb1\u001b[0m\u001b[0;34m.\u001b[0m\u001b[0mshape\u001b[0m\u001b[0;34m)\u001b[0m \u001b[0;34m!=\u001b[0m \u001b[0;36m2\u001b[0m \u001b[0;32mor\u001b[0m \u001b[0mb1\u001b[0m\u001b[0;34m.\u001b[0m\u001b[0mshape\u001b[0m\u001b[0;34m[\u001b[0m\u001b[0;36m0\u001b[0m\u001b[0;34m]\u001b[0m \u001b[0;34m!=\u001b[0m \u001b[0mb1\u001b[0m\u001b[0;34m.\u001b[0m\u001b[0mshape\u001b[0m\u001b[0;34m[\u001b[0m\u001b[0;36m1\u001b[0m\u001b[0;34m]\u001b[0m\u001b[0;34m:\u001b[0m\u001b[0;34m\u001b[0m\u001b[0m\n",
      "\u001b[0;32m~/.local/lib/python3.6/site-packages/scipy/_lib/_util.py\u001b[0m in \u001b[0;36m_asarray_validated\u001b[0;34m(a, check_finite, sparse_ok, objects_ok, mask_ok, as_inexact)\u001b[0m\n\u001b[1;32m    237\u001b[0m             \u001b[0;32mraise\u001b[0m \u001b[0mValueError\u001b[0m\u001b[0;34m(\u001b[0m\u001b[0;34m'masked arrays are not supported'\u001b[0m\u001b[0;34m)\u001b[0m\u001b[0;34m\u001b[0m\u001b[0m\n\u001b[1;32m    238\u001b[0m     \u001b[0mtoarray\u001b[0m \u001b[0;34m=\u001b[0m \u001b[0mnp\u001b[0m\u001b[0;34m.\u001b[0m\u001b[0masarray_chkfinite\u001b[0m \u001b[0;32mif\u001b[0m \u001b[0mcheck_finite\u001b[0m \u001b[0;32melse\u001b[0m \u001b[0mnp\u001b[0m\u001b[0;34m.\u001b[0m\u001b[0masarray\u001b[0m\u001b[0;34m\u001b[0m\u001b[0m\n\u001b[0;32m--> 239\u001b[0;31m     \u001b[0ma\u001b[0m \u001b[0;34m=\u001b[0m \u001b[0mtoarray\u001b[0m\u001b[0;34m(\u001b[0m\u001b[0ma\u001b[0m\u001b[0;34m)\u001b[0m\u001b[0;34m\u001b[0m\u001b[0m\n\u001b[0m\u001b[1;32m    240\u001b[0m     \u001b[0;32mif\u001b[0m \u001b[0;32mnot\u001b[0m \u001b[0mobjects_ok\u001b[0m\u001b[0;34m:\u001b[0m\u001b[0;34m\u001b[0m\u001b[0m\n\u001b[1;32m    241\u001b[0m         \u001b[0;32mif\u001b[0m \u001b[0ma\u001b[0m\u001b[0;34m.\u001b[0m\u001b[0mdtype\u001b[0m \u001b[0;32mis\u001b[0m \u001b[0mnp\u001b[0m\u001b[0;34m.\u001b[0m\u001b[0mdtype\u001b[0m\u001b[0;34m(\u001b[0m\u001b[0;34m'O'\u001b[0m\u001b[0;34m)\u001b[0m\u001b[0;34m:\u001b[0m\u001b[0;34m\u001b[0m\u001b[0m\n",
      "\u001b[0;32m~/.local/lib/python3.6/site-packages/numpy/lib/function_base.py\u001b[0m in \u001b[0;36masarray_chkfinite\u001b[0;34m(a, dtype, order)\u001b[0m\n\u001b[1;32m    496\u001b[0m     \u001b[0;32mif\u001b[0m \u001b[0ma\u001b[0m\u001b[0;34m.\u001b[0m\u001b[0mdtype\u001b[0m\u001b[0;34m.\u001b[0m\u001b[0mchar\u001b[0m \u001b[0;32min\u001b[0m \u001b[0mtypecodes\u001b[0m\u001b[0;34m[\u001b[0m\u001b[0;34m'AllFloat'\u001b[0m\u001b[0;34m]\u001b[0m \u001b[0;32mand\u001b[0m \u001b[0;32mnot\u001b[0m \u001b[0mnp\u001b[0m\u001b[0;34m.\u001b[0m\u001b[0misfinite\u001b[0m\u001b[0;34m(\u001b[0m\u001b[0ma\u001b[0m\u001b[0;34m)\u001b[0m\u001b[0;34m.\u001b[0m\u001b[0mall\u001b[0m\u001b[0;34m(\u001b[0m\u001b[0;34m)\u001b[0m\u001b[0;34m:\u001b[0m\u001b[0;34m\u001b[0m\u001b[0m\n\u001b[1;32m    497\u001b[0m         raise ValueError(\n\u001b[0;32m--> 498\u001b[0;31m             \"array must not contain infs or NaNs\")\n\u001b[0m\u001b[1;32m    499\u001b[0m     \u001b[0;32mreturn\u001b[0m \u001b[0ma\u001b[0m\u001b[0;34m\u001b[0m\u001b[0m\n\u001b[1;32m    500\u001b[0m \u001b[0;34m\u001b[0m\u001b[0m\n",
      "\u001b[0;31mValueError\u001b[0m: array must not contain infs or NaNs"
     ]
    }
   ],
   "source": [
    "w = generate_projection(train_data,train_labels,NO_csp,filter_bank,time_windows)\n",
    "# feature_mat = extract_feature(train_data,w,filter_bank,time_windows)"
   ]
  },
  {
   "cell_type": "code",
   "execution_count": null,
   "metadata": {},
   "outputs": [],
   "source": []
  }
 ],
 "metadata": {
  "kernelspec": {
   "display_name": "Python 3",
   "language": "python",
   "name": "python3"
  },
  "language_info": {
   "codemirror_mode": {
    "name": "ipython",
    "version": 3
   },
   "file_extension": ".py",
   "mimetype": "text/x-python",
   "name": "python",
   "nbconvert_exporter": "python",
   "pygments_lexer": "ipython3",
   "version": "3.6.5"
  }
 },
 "nbformat": 4,
 "nbformat_minor": 2
}
